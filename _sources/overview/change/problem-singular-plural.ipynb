{
 "cells": [
  {
   "cell_type": "markdown",
   "metadata": {},
   "source": [
    "# Change in Singular/Plural Object Types"
   ]
  },
  {
   "cell_type": "code",
   "execution_count": 2,
   "metadata": {},
   "outputs": [],
   "source": [
    "import glob\n",
    "import pandas as pd\n",
    "\n",
    "cur_objects_df = pd.read_hdf('/home/richard/Git/bbk-mqaf/data/latest/field.h5')"
   ]
  },
  {
   "cell_type": "code",
   "execution_count": 5,
   "metadata": {},
   "outputs": [],
   "source": [
    "prev_objects_df = pd.read_hdf('/home/richard/Git/bbk-mqaf/data/prev/field.h5')"
   ]
  },
  {
   "cell_type": "code",
   "execution_count": 6,
   "metadata": {},
   "outputs": [],
   "source": [
    "cur_obj_types = cur_objects_df['[objectType'].value_counts()\n",
    "cur_total_objects = len(cur_objects_df)"
   ]
  },
  {
   "cell_type": "code",
   "execution_count": 7,
   "metadata": {},
   "outputs": [],
   "source": [
    "prev_obj_types = prev_objects_df['[objectType'].value_counts()\n",
    "prev_total_objects = len(prev_objects_df)"
   ]
  },
  {
   "cell_type": "code",
   "execution_count": 8,
   "metadata": {},
   "outputs": [],
   "source": [
    "# Now extract all those ending with 's' - not comprehensive plural detection system of course\n",
    "\n",
    "cur_plural_types = cur_obj_types[cur_obj_types.index.str.endswith(\"s\")]\n",
    "\n",
    "# Remove those ending with 'ss' or 'es' to get rid of some obvious false positives\n",
    "\n",
    "cur_plural_types = cur_plural_types[~cur_plural_types.index.str.endswith(\"es\")]\n",
    "cur_plural_types = cur_plural_types[~cur_plural_types.index.str.endswith(\"ss\")]\n",
    "cur_plural_types = cur_plural_types[~cur_plural_types.index.str.endswith(\"us\")]"
   ]
  },
  {
   "cell_type": "code",
   "execution_count": 9,
   "metadata": {},
   "outputs": [],
   "source": [
    "# Now extract all those ending with 's' - not comprehensive plural detection system of course\n",
    "\n",
    "prev_plural_types = prev_obj_types[prev_obj_types.index.str.endswith(\"s\")]\n",
    "\n",
    "# Remove those ending with 'ss' or 'es' to get rid of some obvious false positives\n",
    "\n",
    "prev_plural_types = prev_plural_types[~prev_plural_types.index.str.endswith(\"es\")]\n",
    "prev_plural_types = prev_plural_types[~prev_plural_types.index.str.endswith(\"ss\")]\n",
    "prev_plural_types = prev_plural_types[~prev_plural_types.index.str.endswith(\"us\")]"
   ]
  },
  {
   "cell_type": "code",
   "execution_count": 16,
   "metadata": {},
   "outputs": [],
   "source": [
    "# Now go through each, remove the 's', and check if it also exists in original list (upper case first letter for the comparision) \n",
    "\n",
    "total_cur_plural = 0\n",
    "\n",
    "data = []\n",
    "for index, value in cur_plural_types.items():\n",
    "    singular = index[:-1].capitalize()\n",
    "    if singular in cur_obj_types:\n",
    "        count = cur_obj_types.get(singular)\n",
    "        total_cur_plural += value"
   ]
  },
  {
   "cell_type": "code",
   "execution_count": 12,
   "metadata": {},
   "outputs": [],
   "source": [
    "# Now go through each, remove the 's', and check if it also exists in original list (upper case first letter for the comparision) \n",
    "\n",
    "total_prev_plural = 0\n",
    "\n",
    "data = []\n",
    "for index, value in prev_plural_types.items():\n",
    "    singular = index[:-1].capitalize()\n",
    "    if singular in prev_obj_types:\n",
    "        count = prev_obj_types.get(singular)\n",
    "        total_prev_plural += value"
   ]
  },
  {
   "cell_type": "code",
   "execution_count": 20,
   "metadata": {},
   "outputs": [
    {
     "name": "stdout",
     "output_type": "stream",
     "text": [
      "Total current Objects 1238467 of which 15731 (1.2702%) are possible plural duplicates\n"
     ]
    }
   ],
   "source": [
    "cur_percent = total_cur_plural/cur_total_objects\n",
    "\n",
    "print(f\"Total current Objects {cur_total_objects} of which {total_cur_plural} ({(cur_percent)*100:.4f}%) are possible plural duplicates\")"
   ]
  },
  {
   "cell_type": "code",
   "execution_count": 21,
   "metadata": {},
   "outputs": [
    {
     "name": "stdout",
     "output_type": "stream",
     "text": [
      "Total previous Objects 1239903 of which 15734 (1.2690%) are possible plural duplicates\n"
     ]
    }
   ],
   "source": [
    "prev_percent = total_prev_plural/prev_total_objects\n",
    "print(f\"Total previous Objects {prev_total_objects} of which {total_prev_plural} ({(prev_percent)*100:.4f}%) are possible plural duplicates\")"
   ]
  },
  {
   "cell_type": "code",
   "execution_count": null,
   "metadata": {},
   "outputs": [],
   "source": []
  },
  {
   "cell_type": "code",
   "execution_count": 37,
   "metadata": {},
   "outputs": [
    {
     "name": "stdout",
     "output_type": "stream",
     "text": [
      "Monthly Change is -3 (0.0191%) fewer plural object types which improves browsing functionality\n"
     ]
    }
   ],
   "source": [
    "if((cur_percent-prev_percent) > 0):\n",
    "  plural_change = (total_prev_plural-total_cur_plural) / total_prev_plural\n",
    "  print(f\"Monthly Change is {total_cur_plural-total_prev_plural} ({(plural_change)*100:.4f}%) fewer plural object types which improves browsing functionality\")\n",
    "else:\n",
    "  plural_change = (total_prev_plural-total_cur_plural) / total_prev_plural\n",
    "  print(f\"Monthly Change is {total_cur_plural-total_prev_plural} {(plural_change)*100:.4f}% more plurals which reduces browsing functionality\")"
   ]
  },
  {
   "cell_type": "code",
   "execution_count": 39,
   "metadata": {},
   "outputs": [
    {
     "name": "stdout",
     "output_type": "stream",
     "text": [
      "Collecting myst_nb\n",
      "  Using cached myst_nb-0.12.3-py3-none-any.whl (37 kB)\n",
      "Collecting myst-parser~=0.13.5\n",
      "  Using cached myst_parser-0.13.7-py3-none-any.whl (44 kB)\n",
      "Requirement already satisfied: ipywidgets<8,>=7.0.0 in /home/richard/.virtualenvs/jupyterlab/lib/python3.8/site-packages (from myst_nb) (7.5.1)\n",
      "Collecting jupyter-cache~=0.4.1\n",
      "  Downloading jupyter_cache-0.4.3-py3-none-any.whl (31 kB)\n",
      "Collecting docutils>=0.15\n",
      "  Downloading docutils-0.17.1-py2.py3-none-any.whl (575 kB)\n",
      "\u001b[K     |████████████████████████████████| 575 kB 4.0 MB/s eta 0:00:01\n",
      "\u001b[?25hCollecting nbconvert~=5.6\n",
      "  Using cached nbconvert-5.6.1-py2.py3-none-any.whl (455 kB)\n",
      "Collecting sphinx-togglebutton~=0.2.2\n",
      "  Using cached sphinx_togglebutton-0.2.3-py3-none-any.whl (6.1 kB)\n",
      "Requirement already satisfied: ipython in /home/richard/.virtualenvs/jupyterlab/lib/python3.8/site-packages (from myst_nb) (7.18.1)\n",
      "Requirement already satisfied: pyyaml in /home/richard/.virtualenvs/jupyterlab/lib/python3.8/site-packages (from myst_nb) (5.3.1)\n",
      "Collecting sphinx<4,>=2\n",
      "  Downloading Sphinx-3.5.4-py3-none-any.whl (2.8 MB)\n",
      "\u001b[K     |████████████████████████████████| 2.8 MB 6.7 MB/s eta 0:00:01\n",
      "\u001b[?25hCollecting importlib-metadata\n",
      "  Downloading importlib_metadata-4.6.3-py3-none-any.whl (17 kB)\n",
      "Requirement already satisfied: nbformat~=5.0 in /home/richard/.virtualenvs/jupyterlab/lib/python3.8/site-packages (from myst_nb) (5.0.7)\n",
      "Collecting jupyter-sphinx~=0.3.2\n",
      "  Using cached jupyter_sphinx-0.3.2-py3-none-any.whl (20 kB)\n",
      "Collecting mdit-py-plugins~=0.2.5\n",
      "  Downloading mdit_py_plugins-0.2.8-py3-none-any.whl (41 kB)\n",
      "\u001b[K     |████████████████████████████████| 41 kB 137 kB/s eta 0:00:01\n",
      "\u001b[?25hCollecting markdown-it-py~=0.6.2\n",
      "  Using cached markdown_it_py-0.6.2-py3-none-any.whl (81 kB)\n",
      "Requirement already satisfied: jinja2 in /home/richard/.virtualenvs/jupyterlab/lib/python3.8/site-packages (from myst-parser~=0.13.5->myst_nb) (2.11.2)\n",
      "Requirement already satisfied: ipykernel>=4.5.1 in /home/richard/.virtualenvs/jupyterlab/lib/python3.8/site-packages (from ipywidgets<8,>=7.0.0->myst_nb) (5.3.4)\n",
      "Requirement already satisfied: traitlets>=4.3.1 in /home/richard/.virtualenvs/jupyterlab/lib/python3.8/site-packages (from ipywidgets<8,>=7.0.0->myst_nb) (5.0.4)\n",
      "Requirement already satisfied: widgetsnbextension~=3.5.0 in /home/richard/.virtualenvs/jupyterlab/lib/python3.8/site-packages (from ipywidgets<8,>=7.0.0->myst_nb) (3.5.1)\n",
      "Collecting nbdime\n",
      "  Downloading nbdime-3.1.0-py2.py3-none-any.whl (5.1 MB)\n",
      "\u001b[K     |████████████████████████████████| 5.1 MB 7.8 MB/s eta 0:00:01\n",
      "\u001b[?25hRequirement already satisfied: attrs in /home/richard/.virtualenvs/jupyterlab/lib/python3.8/site-packages (from jupyter-cache~=0.4.1->myst_nb) (20.2.0)\n",
      "Collecting sqlalchemy<1.5,>=1.3.12\n",
      "  Downloading SQLAlchemy-1.4.22-cp38-cp38-manylinux_2_5_x86_64.manylinux1_x86_64.manylinux_2_17_x86_64.manylinux2014_x86_64.whl (1.6 MB)\n",
      "\u001b[K     |████████████████████████████████| 1.6 MB 6.5 MB/s eta 0:00:01\n",
      "\u001b[?25hRequirement already satisfied: nbclient<0.6,>=0.2 in /home/richard/.virtualenvs/jupyterlab/lib/python3.8/site-packages (from jupyter-cache~=0.4.1->myst_nb) (0.5.0)\n",
      "Requirement already satisfied: jupyter-core in /home/richard/.virtualenvs/jupyterlab/lib/python3.8/site-packages (from nbconvert~=5.6->myst_nb) (4.6.3)\n",
      "Requirement already satisfied: testpath in /home/richard/.virtualenvs/jupyterlab/lib/python3.8/site-packages (from nbconvert~=5.6->myst_nb) (0.4.4)\n",
      "Requirement already satisfied: mistune<2,>=0.8.1 in /home/richard/.virtualenvs/jupyterlab/lib/python3.8/site-packages (from nbconvert~=5.6->myst_nb) (0.8.4)\n",
      "Requirement already satisfied: bleach in /home/richard/.virtualenvs/jupyterlab/lib/python3.8/site-packages (from nbconvert~=5.6->myst_nb) (3.2.1)\n",
      "Requirement already satisfied: pandocfilters>=1.4.1 in /home/richard/.virtualenvs/jupyterlab/lib/python3.8/site-packages (from nbconvert~=5.6->myst_nb) (1.4.2)\n",
      "Requirement already satisfied: entrypoints>=0.2.2 in /home/richard/.virtualenvs/jupyterlab/lib/python3.8/site-packages (from nbconvert~=5.6->myst_nb) (0.3)\n",
      "Requirement already satisfied: pygments in /home/richard/.virtualenvs/jupyterlab/lib/python3.8/site-packages (from nbconvert~=5.6->myst_nb) (2.7.1)\n",
      "Requirement already satisfied: defusedxml in /home/richard/.virtualenvs/jupyterlab/lib/python3.8/site-packages (from nbconvert~=5.6->myst_nb) (0.6.0)\n",
      "Requirement already satisfied: setuptools in /home/richard/.virtualenvs/jupyterlab/lib/python3.8/site-packages (from sphinx-togglebutton~=0.2.2->myst_nb) (44.0.0)\n",
      "Requirement already satisfied: wheel in /home/richard/.virtualenvs/jupyterlab/lib/python3.8/site-packages (from sphinx-togglebutton~=0.2.2->myst_nb) (0.34.2)\n",
      "Requirement already satisfied: prompt-toolkit!=3.0.0,!=3.0.1,<3.1.0,>=2.0.0 in /home/richard/.virtualenvs/jupyterlab/lib/python3.8/site-packages (from ipython->myst_nb) (3.0.7)\n",
      "Requirement already satisfied: backcall in /home/richard/.virtualenvs/jupyterlab/lib/python3.8/site-packages (from ipython->myst_nb) (0.2.0)\n",
      "Requirement already satisfied: decorator in /home/richard/.virtualenvs/jupyterlab/lib/python3.8/site-packages (from ipython->myst_nb) (4.4.2)\n",
      "Requirement already satisfied: jedi>=0.10 in /home/richard/.virtualenvs/jupyterlab/lib/python3.8/site-packages (from ipython->myst_nb) (0.17.2)\n",
      "Requirement already satisfied: pickleshare in /home/richard/.virtualenvs/jupyterlab/lib/python3.8/site-packages (from ipython->myst_nb) (0.7.5)\n",
      "Requirement already satisfied: pexpect>4.3; sys_platform != \"win32\" in /home/richard/.virtualenvs/jupyterlab/lib/python3.8/site-packages (from ipython->myst_nb) (4.8.0)\n",
      "Collecting sphinxcontrib-serializinghtml\n",
      "  Downloading sphinxcontrib_serializinghtml-1.1.5-py2.py3-none-any.whl (94 kB)\n",
      "\u001b[K     |████████████████████████████████| 94 kB 4.7 MB/s eta 0:00:01\n",
      "\u001b[?25hRequirement already satisfied: babel>=1.3 in /home/richard/.virtualenvs/jupyterlab/lib/python3.8/site-packages (from sphinx<4,>=2->myst_nb) (2.9.0)\n",
      "Collecting sphinxcontrib-devhelp\n",
      "  Using cached sphinxcontrib_devhelp-1.0.2-py2.py3-none-any.whl (84 kB)\n",
      "Collecting sphinxcontrib-applehelp\n",
      "  Using cached sphinxcontrib_applehelp-1.0.2-py2.py3-none-any.whl (121 kB)\n",
      "Collecting snowballstemmer>=1.1\n",
      "  Downloading snowballstemmer-2.1.0-py2.py3-none-any.whl (93 kB)\n",
      "\u001b[K     |████████████████████████████████| 93 kB 3.3 MB/s eta 0:00:01\n",
      "\u001b[?25hCollecting imagesize\n",
      "  Using cached imagesize-1.2.0-py2.py3-none-any.whl (4.8 kB)\n",
      "Requirement already satisfied: packaging in /home/richard/.virtualenvs/jupyterlab/lib/python3.8/site-packages (from sphinx<4,>=2->myst_nb) (20.3)\n",
      "Collecting sphinxcontrib-jsmath\n",
      "  Using cached sphinxcontrib_jsmath-1.0.1-py2.py3-none-any.whl (5.1 kB)\n",
      "Collecting sphinxcontrib-qthelp\n",
      "  Using cached sphinxcontrib_qthelp-1.0.3-py2.py3-none-any.whl (90 kB)\n",
      "Collecting sphinxcontrib-htmlhelp\n",
      "  Downloading sphinxcontrib_htmlhelp-2.0.0-py2.py3-none-any.whl (100 kB)\n",
      "\u001b[K     |████████████████████████████████| 100 kB 5.6 MB/s ta 0:00:01\n",
      "\u001b[?25hRequirement already satisfied: requests>=2.5.0 in /home/richard/.virtualenvs/jupyterlab/lib/python3.8/site-packages (from sphinx<4,>=2->myst_nb) (2.25.1)\n",
      "Collecting alabaster<0.8,>=0.7\n",
      "  Using cached alabaster-0.7.12-py2.py3-none-any.whl (14 kB)\n",
      "Collecting zipp>=0.5\n",
      "  Downloading zipp-3.5.0-py3-none-any.whl (5.7 kB)\n",
      "Requirement already satisfied: jsonschema!=2.5.0,>=2.4 in /home/richard/.virtualenvs/jupyterlab/lib/python3.8/site-packages (from nbformat~=5.0->myst_nb) (3.2.0)\n",
      "Requirement already satisfied: ipython-genutils in /home/richard/.virtualenvs/jupyterlab/lib/python3.8/site-packages (from nbformat~=5.0->myst_nb) (0.2.0)\n",
      "Requirement already satisfied: MarkupSafe>=0.23 in /home/richard/.virtualenvs/jupyterlab/lib/python3.8/site-packages (from jinja2->myst-parser~=0.13.5->myst_nb) (1.1.1)\n",
      "Requirement already satisfied: jupyter-client in /home/richard/.virtualenvs/jupyterlab/lib/python3.8/site-packages (from ipykernel>=4.5.1->ipywidgets<8,>=7.0.0->myst_nb) (6.1.7)\n",
      "Requirement already satisfied: tornado>=4.2 in /home/richard/.virtualenvs/jupyterlab/lib/python3.8/site-packages (from ipykernel>=4.5.1->ipywidgets<8,>=7.0.0->myst_nb) (6.1)\n",
      "Requirement already satisfied: notebook>=4.4.1 in /home/richard/.virtualenvs/jupyterlab/lib/python3.8/site-packages (from widgetsnbextension~=3.5.0->ipywidgets<8,>=7.0.0->myst_nb) (6.1.4)\n",
      "Collecting GitPython!=2.1.4,!=2.1.5,!=2.1.6\n",
      "  Downloading GitPython-3.1.18-py3-none-any.whl (170 kB)\n",
      "\u001b[K     |████████████████████████████████| 170 kB 6.0 MB/s eta 0:00:01\n",
      "\u001b[?25hRequirement already satisfied: jupyter-server in /home/richard/.virtualenvs/jupyterlab/lib/python3.8/site-packages (from nbdime->jupyter-cache~=0.4.1->myst_nb) (1.1.3)\n",
      "Requirement already satisfied: colorama in /home/richard/.virtualenvs/jupyterlab/lib/python3.8/site-packages (from nbdime->jupyter-cache~=0.4.1->myst_nb) (0.4.3)\n",
      "Collecting jupyter-server-mathjax>=0.2.2\n",
      "  Downloading jupyter_server_mathjax-0.2.3-py3-none-any.whl (3.1 MB)\n",
      "\u001b[K     |████████████████████████████████| 3.1 MB 5.5 MB/s eta 0:00:01\n",
      "\u001b[?25hCollecting greenlet!=0.4.17; python_version >= \"3\"\n",
      "  Downloading greenlet-1.1.1-cp38-cp38-manylinux_2_17_x86_64.manylinux2014_x86_64.whl (150 kB)\n",
      "\u001b[K     |████████████████████████████████| 150 kB 7.6 MB/s eta 0:00:01\n",
      "\u001b[?25hRequirement already satisfied: async-generator in /home/richard/.virtualenvs/jupyterlab/lib/python3.8/site-packages (from nbclient<0.6,>=0.2->jupyter-cache~=0.4.1->myst_nb) (1.10)\n",
      "Requirement already satisfied: nest-asyncio in /home/richard/.virtualenvs/jupyterlab/lib/python3.8/site-packages (from nbclient<0.6,>=0.2->jupyter-cache~=0.4.1->myst_nb) (1.4.0)\n",
      "Requirement already satisfied: six>=1.9.0 in /home/richard/.virtualenvs/jupyterlab/lib/python3.8/site-packages (from bleach->nbconvert~=5.6->myst_nb) (1.14.0)\n",
      "Requirement already satisfied: webencodings in /home/richard/.virtualenvs/jupyterlab/lib/python3.8/site-packages (from bleach->nbconvert~=5.6->myst_nb) (0.5.1)\n",
      "Requirement already satisfied: wcwidth in /home/richard/.virtualenvs/jupyterlab/lib/python3.8/site-packages (from prompt-toolkit!=3.0.0,!=3.0.1,<3.1.0,>=2.0.0->ipython->myst_nb) (0.2.5)\n",
      "Requirement already satisfied: parso<0.8.0,>=0.7.0 in /home/richard/.virtualenvs/jupyterlab/lib/python3.8/site-packages (from jedi>=0.10->ipython->myst_nb) (0.7.1)\n",
      "Requirement already satisfied: ptyprocess>=0.5 in /home/richard/.virtualenvs/jupyterlab/lib/python3.8/site-packages (from pexpect>4.3; sys_platform != \"win32\"->ipython->myst_nb) (0.6.0)\n",
      "Requirement already satisfied: pytz>=2015.7 in /home/richard/.virtualenvs/jupyterlab/lib/python3.8/site-packages (from babel>=1.3->sphinx<4,>=2->myst_nb) (2020.1)\n",
      "Requirement already satisfied: certifi>=2017.4.17 in /home/richard/.virtualenvs/jupyterlab/lib/python3.8/site-packages (from requests>=2.5.0->sphinx<4,>=2->myst_nb) (2020.6.20)\n",
      "Requirement already satisfied: urllib3<1.27,>=1.21.1 in /home/richard/.virtualenvs/jupyterlab/lib/python3.8/site-packages (from requests>=2.5.0->sphinx<4,>=2->myst_nb) (1.25.8)\n",
      "Requirement already satisfied: chardet<5,>=3.0.2 in /home/richard/.virtualenvs/jupyterlab/lib/python3.8/site-packages (from requests>=2.5.0->sphinx<4,>=2->myst_nb) (3.0.4)\n",
      "Requirement already satisfied: idna<3,>=2.5 in /home/richard/.virtualenvs/jupyterlab/lib/python3.8/site-packages (from requests>=2.5.0->sphinx<4,>=2->myst_nb) (2.8)\n",
      "Requirement already satisfied: pyrsistent>=0.14.0 in /home/richard/.virtualenvs/jupyterlab/lib/python3.8/site-packages (from jsonschema!=2.5.0,>=2.4->nbformat~=5.0->myst_nb) (0.17.3)\n",
      "Requirement already satisfied: python-dateutil>=2.1 in /home/richard/.virtualenvs/jupyterlab/lib/python3.8/site-packages (from jupyter-client->ipykernel>=4.5.1->ipywidgets<8,>=7.0.0->myst_nb) (2.8.1)\n",
      "Requirement already satisfied: pyzmq>=13 in /home/richard/.virtualenvs/jupyterlab/lib/python3.8/site-packages (from jupyter-client->ipykernel>=4.5.1->ipywidgets<8,>=7.0.0->myst_nb) (19.0.2)\n",
      "Requirement already satisfied: argon2-cffi in /home/richard/.virtualenvs/jupyterlab/lib/python3.8/site-packages (from notebook>=4.4.1->widgetsnbextension~=3.5.0->ipywidgets<8,>=7.0.0->myst_nb) (20.1.0)\n",
      "Requirement already satisfied: prometheus-client in /home/richard/.virtualenvs/jupyterlab/lib/python3.8/site-packages (from notebook>=4.4.1->widgetsnbextension~=3.5.0->ipywidgets<8,>=7.0.0->myst_nb) (0.8.0)\n",
      "Requirement already satisfied: Send2Trash in /home/richard/.virtualenvs/jupyterlab/lib/python3.8/site-packages (from notebook>=4.4.1->widgetsnbextension~=3.5.0->ipywidgets<8,>=7.0.0->myst_nb) (1.5.0)\n",
      "Requirement already satisfied: terminado>=0.8.3 in /home/richard/.virtualenvs/jupyterlab/lib/python3.8/site-packages (from notebook>=4.4.1->widgetsnbextension~=3.5.0->ipywidgets<8,>=7.0.0->myst_nb) (0.9.1)\n",
      "Collecting gitdb<5,>=4.0.1\n",
      "  Using cached gitdb-4.0.7-py3-none-any.whl (63 kB)\n",
      "Requirement already satisfied: anyio>=2.0.2 in /home/richard/.virtualenvs/jupyterlab/lib/python3.8/site-packages (from jupyter-server->nbdime->jupyter-cache~=0.4.1->myst_nb) (2.0.2)\n",
      "Requirement already satisfied: cffi>=1.0.0 in /home/richard/.virtualenvs/jupyterlab/lib/python3.8/site-packages (from argon2-cffi->notebook>=4.4.1->widgetsnbextension~=3.5.0->ipywidgets<8,>=7.0.0->myst_nb) (1.14.3)\n",
      "Collecting smmap<5,>=3.0.1\n",
      "  Using cached smmap-4.0.0-py2.py3-none-any.whl (24 kB)\n",
      "Requirement already satisfied: sniffio>=1.1 in /home/richard/.virtualenvs/jupyterlab/lib/python3.8/site-packages (from anyio>=2.0.2->jupyter-server->nbdime->jupyter-cache~=0.4.1->myst_nb) (1.2.0)\n",
      "Requirement already satisfied: pycparser in /home/richard/.virtualenvs/jupyterlab/lib/python3.8/site-packages (from cffi>=1.0.0->argon2-cffi->notebook>=4.4.1->widgetsnbextension~=3.5.0->ipywidgets<8,>=7.0.0->myst_nb) (2.20)\n",
      "\u001b[31mERROR: voila 0.2.3 has requirement nbconvert<7,>=6.0.0, but you'll have nbconvert 5.6.1 which is incompatible.\u001b[0m\n",
      "\u001b[31mERROR: sphinx 3.5.4 has requirement docutils<0.17,>=0.12, but you'll have docutils 0.17.1 which is incompatible.\u001b[0m\n",
      "\u001b[31mERROR: mdit-py-plugins 0.2.8 has requirement markdown-it-py~=1.0, but you'll have markdown-it-py 0.6.2 which is incompatible.\u001b[0m\n",
      "Installing collected packages: sphinxcontrib-serializinghtml, sphinxcontrib-devhelp, sphinxcontrib-applehelp, snowballstemmer, imagesize, sphinxcontrib-jsmath, docutils, sphinxcontrib-qthelp, sphinxcontrib-htmlhelp, alabaster, sphinx, markdown-it-py, mdit-py-plugins, myst-parser, smmap, gitdb, GitPython, jupyter-server-mathjax, nbdime, greenlet, sqlalchemy, jupyter-cache, nbconvert, sphinx-togglebutton, zipp, importlib-metadata, jupyter-sphinx, myst-nb\n",
      "  Attempting uninstall: nbconvert\n",
      "    Found existing installation: nbconvert 6.0.6\n",
      "    Uninstalling nbconvert-6.0.6:\n",
      "      Successfully uninstalled nbconvert-6.0.6\n",
      "Successfully installed GitPython-3.1.18 alabaster-0.7.12 docutils-0.17.1 gitdb-4.0.7 greenlet-1.1.1 imagesize-1.2.0 importlib-metadata-4.6.3 jupyter-cache-0.4.3 jupyter-server-mathjax-0.2.3 jupyter-sphinx-0.3.2 markdown-it-py-0.6.2 mdit-py-plugins-0.2.8 myst-nb-0.12.3 myst-parser-0.13.7 nbconvert-5.6.1 nbdime-3.1.0 smmap-4.0.0 snowballstemmer-2.1.0 sphinx-3.5.4 sphinx-togglebutton-0.2.3 sphinxcontrib-applehelp-1.0.2 sphinxcontrib-devhelp-1.0.2 sphinxcontrib-htmlhelp-2.0.0 sphinxcontrib-jsmath-1.0.1 sphinxcontrib-qthelp-1.0.3 sphinxcontrib-serializinghtml-1.1.5 sqlalchemy-1.4.22 zipp-3.5.0\n",
      "Note: you may need to restart the kernel to use updated packages.\n"
     ]
    }
   ],
   "source": [
    "pip install myst_nb"
   ]
  },
  {
   "cell_type": "code",
   "execution_count": 40,
   "metadata": {},
   "outputs": [
    {
     "data": {
      "text/plain": [
       "0.00019066988686920045"
      ]
     },
     "metadata": {
      "scrapbook": {
       "mime_prefix": "",
       "name": "plural_change"
      }
     },
     "output_type": "display_data"
    }
   ],
   "source": [
    "from myst_nb import glue\n",
    "glue(\"plural_change\", plural_change)"
   ]
  },
  {
   "cell_type": "code",
   "execution_count": null,
   "metadata": {},
   "outputs": [],
   "source": []
  }
 ],
 "metadata": {
  "kernelspec": {
   "display_name": "Python 3",
   "language": "python",
   "name": "python3"
  },
  "language_info": {
   "codemirror_mode": {
    "name": "ipython",
    "version": 3
   },
   "file_extension": ".py",
   "mimetype": "text/x-python",
   "name": "python",
   "nbconvert_exporter": "python",
   "pygments_lexer": "ipython3",
   "version": "3.8.10"
  }
 },
 "nbformat": 4,
 "nbformat_minor": 4
}

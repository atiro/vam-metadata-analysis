{
 "cells": [
  {
   "cell_type": "markdown",
   "metadata": {},
   "source": [
    "# Published Object Records"
   ]
  },
  {
   "cell_type": "markdown",
   "metadata": {},
   "source": [
    "This shows the change in published object records. The Y-Axis represents object record numbers, in increments of 150,000 (so starting from O1). The\n",
    "X-Axis show increments of 10,000. So each square represents 10,000 object records. A negative number indicates there are fewer object records now\n",
    "published from that 10,000 then in the previous month, and positive indicates there are more."
   ]
  },
  {
   "cell_type": "code",
   "execution_count": null,
   "metadata": {
    "tags": [
     "remove-cell"
    ]
   },
   "outputs": [],
   "source": [
    "import pandas as pd\n",
    "import bz2\n",
    "import os\n",
    "import fnmatch\n",
    "import json\n",
    "import matplotlib.pyplot as plt\n",
    "import seaborn as sns\n"
   ]
  },
  {
   "cell_type": "code",
   "execution_count": 82,
   "metadata": {
    "tags": [
     "remove-cell"
    ]
   },
   "outputs": [],
   "source": [
    "# Load objects\n",
    "\n",
    "latest_objects_df = pd.read_hdf('/home/richard/Git/bbk-mqaf/data/latest/field.h5')"
   ]
  },
  {
   "cell_type": "code",
   "execution_count": 85,
   "metadata": {
    "tags": [
     "remove-cell"
    ]
   },
   "outputs": [],
   "source": [
    "previous_objects_df = pd.read_hdf('/home/richard/Git/bbk-mqaf/data/prev/field.h5')"
   ]
  },
  {
   "cell_type": "code",
   "execution_count": 86,
   "metadata": {
    "tags": [
     "remove-cell"
    ]
   },
   "outputs": [],
   "source": [
    "latest_objects = latest_objects_df[' systemNumber']\n",
    "latest_objects_str = latest_objects.tolist()\n",
    "# Need to remove those object records that don't even have an object id\n",
    "latest_objects_clean = [obj for obj in latest_objects_str if type(obj) == str]\n",
    "latest_objects_num = [int(obj[1:]) for obj in latest_objects_clean]"
   ]
  },
  {
   "cell_type": "code",
   "execution_count": 87,
   "metadata": {
    "tags": [
     "remove-cell"
    ]
   },
   "outputs": [],
   "source": [
    "previous_objects = previous_objects_df[' systemNumber']\n",
    "previous_objects_str = previous_objects.tolist()\n",
    "previous_objects_clean = [obj for obj in previous_objects_str if type(obj) == str]\n",
    "previous_objects_num = [int(obj[1:]) for obj in previous_objects_clean]"
   ]
  },
  {
   "cell_type": "code",
   "execution_count": 88,
   "metadata": {
    "tags": [
     "remove-cell"
    ]
   },
   "outputs": [],
   "source": [
    "bins = pd.interval_range(start=1,end=2250001,freq=10000)\n",
    "d = dict(zip(bins, [f\"{x}\" for x in range(1, 22500001, 10000)]))"
   ]
  },
  {
   "cell_type": "code",
   "execution_count": 96,
   "metadata": {
    "tags": [
     "remove-cell"
    ]
   },
   "outputs": [],
   "source": [
    "latest_identifier_space = {}\n",
    "latest_identifer_bins = None\n",
    "latest_identifier_bins = pd.cut(latest_objects_num, bins=bins, right=False, include_lowest=True).map(d).value_counts()"
   ]
  },
  {
   "cell_type": "code",
   "execution_count": 97,
   "metadata": {
    "tags": [
     "remove-cell"
    ]
   },
   "outputs": [],
   "source": [
    "previous_identifier_space = {}\n",
    "previous_identifer_bins = None\n",
    "previous_identifier_bins = pd.cut(previous_objects_num, bins=bins, right=False, include_lowest=True).map(d).value_counts()\n"
   ]
  },
  {
   "cell_type": "code",
   "execution_count": 98,
   "metadata": {
    "tags": [
     "remove-cell"
    ]
   },
   "outputs": [],
   "source": [
    "# Subtract last month from this month\n",
    "\n",
    "change_identifier_bins = latest_identifier_bins - previous_identifier_bins"
   ]
  },
  {
   "cell_type": "code",
   "execution_count": 1,
   "metadata": {
    "tags": [
     "hide-input"
    ]
   },
   "outputs": [
    {
     "ename": "NameError",
     "evalue": "name 'pd' is not defined",
     "output_type": "error",
     "traceback": [
      "\u001b[0;31m---------------------------------------------------------------------------\u001b[0m",
      "\u001b[0;31mNameError\u001b[0m                                 Traceback (most recent call last)",
      "\u001b[0;32m<ipython-input-1-7aa8a44e7039>\u001b[0m in \u001b[0;36m<module>\u001b[0;34m\u001b[0m\n\u001b[1;32m      1\u001b[0m \u001b[0;31m# Draw heatmap of change\u001b[0m\u001b[0;34m\u001b[0m\u001b[0;34m\u001b[0m\u001b[0;34m\u001b[0m\u001b[0m\n\u001b[1;32m      2\u001b[0m \u001b[0;34m\u001b[0m\u001b[0m\n\u001b[0;32m----> 3\u001b[0;31m \u001b[0mdf\u001b[0m \u001b[0;34m=\u001b[0m \u001b[0mpd\u001b[0m\u001b[0;34m.\u001b[0m\u001b[0mDataFrame\u001b[0m\u001b[0;34m(\u001b[0m\u001b[0;34m)\u001b[0m\u001b[0;34m\u001b[0m\u001b[0;34m\u001b[0m\u001b[0m\n\u001b[0m\u001b[1;32m      4\u001b[0m \u001b[0;34m\u001b[0m\u001b[0m\n\u001b[1;32m      5\u001b[0m \u001b[0mx_axis\u001b[0m \u001b[0;34m=\u001b[0m \u001b[0;34m[\u001b[0m\u001b[0;34m]\u001b[0m\u001b[0;34m\u001b[0m\u001b[0;34m\u001b[0m\u001b[0m\n",
      "\u001b[0;31mNameError\u001b[0m: name 'pd' is not defined"
     ]
    }
   ],
   "source": [
    "# Draw heatmap of change\n",
    "\n",
    "df = pd.DataFrame()\n",
    "\n",
    "x_axis = []\n",
    "y_axis = []\n",
    "\n",
    "for i in range(1, 16):\n",
    "    for j in range(1, 16):\n",
    "        x = (j-1)*10000 + 1\n",
    "        y = (i-1)*150000 \n",
    "        x_axis.append(x)\n",
    "        y_axis.append(y)\n",
    "\n",
    "# For some reason this is inverted\n",
    "df = pd.DataFrame(data={'Object Record (O1 to O2100000)': y_axis, 'Object Record (10,000 per square)': x_axis, 'Data': change_identifier_bins})\n",
    "objects = df.pivot(\"Object Record (O1 to O2100000)\", \"Object Record (10,000 per square)\", \"Data\")\n",
    "\n",
    "sns.set_style(\"dark\")\n",
    "sns.color_palette(\"vlag\")\n",
    "\n",
    "# Draw a heatmap with the numeric values in each cell\n",
    "f, ax = plt.subplots(figsize=(12, 10))\n",
    "\n",
    "ax.set_title(\"Visualisation of Change in Published Object Records\")\n",
    "f.text(.1,0, \"Each square represents 10,000 object records, starting from O1 to O10000 in the top left corner square. Each row represents 150,000 records.\\nThe number in the square is the difference in published records between the two periods for that 10,000 records\")\n",
    "\n",
    "heatmap = sns.heatmap(objects, annot=True, fmt=\"d\", linewidths=.5, ax=ax, cmap=\"vlag\", robust=True)\n"
   ]
  },
  {
   "cell_type": "code",
   "execution_count": null,
   "metadata": {},
   "outputs": [],
   "source": []
  }
 ],
 "metadata": {
  "kernelspec": {
   "display_name": "Python 3",
   "language": "python",
   "name": "python3"
  },
  "language_info": {
   "codemirror_mode": {
    "name": "ipython",
    "version": 3
   },
   "file_extension": ".py",
   "mimetype": "text/x-python",
   "name": "python",
   "nbconvert_exporter": "python",
   "pygments_lexer": "ipython3",
   "version": "3.8.10"
  }
 },
 "nbformat": 4,
 "nbformat_minor": 4
}

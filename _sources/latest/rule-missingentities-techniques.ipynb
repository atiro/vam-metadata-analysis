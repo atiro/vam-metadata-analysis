{
 "cells": [
  {
   "cell_type": "markdown",
   "metadata": {},
   "source": [
    "# Entity Absence Detection (Techniques)"
   ]
  },
  {
   "cell_type": "markdown",
   "metadata": {},
   "source": [
    "This looks for any technique terms not added to the techniques field, but are mentioned in the materialsAndTechniques field in an object."
   ]
  },
  {
   "cell_type": "code",
   "execution_count": 1,
   "metadata": {
    "tags": [
     "remove-cell"
    ]
   },
   "outputs": [],
   "source": [
    "import glob\n",
    "import pandas as pd\n",
    "\n",
    "objects_df = pd.read_hdf('/home/richard/Git/bbk-mqaf/data/latest/entity-absence-techniques.h5')"
   ]
  },
  {
   "cell_type": "code",
   "execution_count": 2,
   "metadata": {
    "tags": [
     "remove-cell"
    ]
   },
   "outputs": [],
   "source": [
    "missing_entities_df = objects_df[objects_df[\" ruleCatalog:score]\"] > 0]"
   ]
  },
  {
   "cell_type": "code",
   "execution_count": 5,
   "metadata": {
    "tags": [
     "remove-cell"
    ]
   },
   "outputs": [],
   "source": [
    "deptNames = {\"APS\": \"Apsley House\",\n",
    "             \"CER\": \"Ceramics Collection\",\n",
    "             \"CIRC\": \"Circulation Department (1909 – 1977)\",\n",
    "             \"DAD\": \"Design, Architecture and Digital Department\",\n",
    "             \"EAS\": \"East Asia Collection\",\n",
    "             \"EXH\": \"Exhibitions Department\",\n",
    "             \"FoB\": \"Fabric of the Building\",\n",
    "             \"FWK\": \"Furniture and Woodwork Collection\",\n",
    "             \"MES\": \"Middle East Section\",\n",
    "             \"MET\": \"Metalwork Collection\",\n",
    "             \"MoC\": \"Museum of Childhood\",\n",
    "             \"NAL\": \"National Art Library\",\n",
    "             \"PDP\": \"Prints, Drawings & Paintings Collection\",\n",
    "             \"RPS\": \"Royal Photographic Society Collection\",\n",
    "             \"SCP\": \"Sculpture Collection\",\n",
    "             \"SSEA\": \"South & South East Asia Collection\",\n",
    "             \"T&F\": \"Textiles and Fashion Collection\",\n",
    "             \"T&P\": \"Theatre and Performance Collection\",\n",
    "             \"VAA\": \"V&A Archive Collection\",\n",
    "             \"WED\": \"Wedgwood Collection\",\n",
    "             \"AAD\": \"Archive of Art and Design\",\n",
    "             \"DOP\": \"Department of Photography\"}"
   ]
  },
  {
   "cell_type": "code",
   "execution_count": 6,
   "metadata": {
    "tags": [
     "hide-input",
     "full-width"
    ]
   },
   "outputs": [
    {
     "data": {
      "text/html": [
       "\n",
       "<div id=\"altair-viz-a53304a020bd44f787e37503d8b4c9a3\"></div>\n",
       "<script type=\"text/javascript\">\n",
       "  (function(spec, embedOpt){\n",
       "    let outputDiv = document.currentScript.previousElementSibling;\n",
       "    if (outputDiv.id !== \"altair-viz-a53304a020bd44f787e37503d8b4c9a3\") {\n",
       "      outputDiv = document.getElementById(\"altair-viz-a53304a020bd44f787e37503d8b4c9a3\");\n",
       "    }\n",
       "    const paths = {\n",
       "      \"vega\": \"https://cdn.jsdelivr.net/npm//vega@5?noext\",\n",
       "      \"vega-lib\": \"https://cdn.jsdelivr.net/npm//vega-lib?noext\",\n",
       "      \"vega-lite\": \"https://cdn.jsdelivr.net/npm//vega-lite@4.8.1?noext\",\n",
       "      \"vega-embed\": \"https://cdn.jsdelivr.net/npm//vega-embed@6?noext\",\n",
       "    };\n",
       "\n",
       "    function loadScript(lib) {\n",
       "      return new Promise(function(resolve, reject) {\n",
       "        var s = document.createElement('script');\n",
       "        s.src = paths[lib];\n",
       "        s.async = true;\n",
       "        s.onload = () => resolve(paths[lib]);\n",
       "        s.onerror = () => reject(`Error loading script: ${paths[lib]}`);\n",
       "        document.getElementsByTagName(\"head\")[0].appendChild(s);\n",
       "      });\n",
       "    }\n",
       "\n",
       "    function showError(err) {\n",
       "      outputDiv.innerHTML = `<div class=\"error\" style=\"color:red;\">${err}</div>`;\n",
       "      throw err;\n",
       "    }\n",
       "\n",
       "    function displayChart(vegaEmbed) {\n",
       "      vegaEmbed(outputDiv, spec, embedOpt)\n",
       "        .catch(err => showError(`Javascript Error: ${err.message}<br>This usually means there's a typo in your chart specification. See the javascript console for the full traceback.`));\n",
       "    }\n",
       "\n",
       "    if(typeof define === \"function\" && define.amd) {\n",
       "      requirejs.config({paths});\n",
       "      require([\"vega-embed\"], displayChart, err => showError(`Error loading script: ${err.message}`));\n",
       "    } else if (typeof vegaEmbed === \"function\") {\n",
       "      displayChart(vegaEmbed);\n",
       "    } else {\n",
       "      loadScript(\"vega\")\n",
       "        .then(() => loadScript(\"vega-lite\"))\n",
       "        .then(() => loadScript(\"vega-embed\"))\n",
       "        .catch(showError)\n",
       "        .then(() => displayChart(vegaEmbed));\n",
       "    }\n",
       "  })({\"config\": {\"view\": {\"continuousWidth\": 400, \"continuousHeight\": 300}}, \"data\": {\"name\": \"data-9daca30a8a87dbd8696f621147d901e4\"}, \"mark\": \"bar\", \"encoding\": {\"color\": {\"type\": \"quantitative\", \"field\": \"Absent\"}, \"tooltip\": [{\"type\": \"quantitative\", \"field\": \"Absent\"}, {\"type\": \"quantitative\", \"field\": \"Count\"}], \"x\": {\"type\": \"quantitative\", \"axis\": {\"title\": \"Object Records\"}, \"field\": \"Count\"}, \"y\": {\"type\": \"ordinal\", \"field\": \"Department\"}}, \"title\": \"Potential Missing Entities (Techniques)\", \"width\": 600, \"$schema\": \"https://vega.github.io/schema/vega-lite/v4.8.1.json\", \"datasets\": {\"data-9daca30a8a87dbd8696f621147d901e4\": [{\"Department\": \"Furniture and Woodwork Collection\", \"Absent\": 1, \"Count\": 310.0}, {\"Department\": \"Museum of Childhood\", \"Absent\": 1, \"Count\": 284.0}, {\"Department\": \"Theatre and Performance Collection\", \"Absent\": 1, \"Count\": 219.0}, {\"Department\": \"Prints, Drawings & Paintings Collection\", \"Absent\": 1, \"Count\": 673.0}, {\"Department\": \"East Asia Collection\", \"Absent\": 1, \"Count\": 468.0}, {\"Department\": \"Ceramics Collection\", \"Absent\": 1, \"Count\": 412.0}, {\"Department\": \"Sculpture Collection\", \"Absent\": 1, \"Count\": 168.0}, {\"Department\": \"Textiles and Fashion Collection\", \"Absent\": 1, \"Count\": 458.0}, {\"Department\": \"Middle East Section\", \"Absent\": 1, \"Count\": 252.0}, {\"Department\": \"South & South East Asia Collection\", \"Absent\": 1, \"Count\": 308.0}, {\"Department\": \"Metalwork Collection\", \"Absent\": 1, \"Count\": 238.0}, {\"Department\": \"National Art Library\", \"Absent\": 1, \"Count\": 12.0}, {\"Department\": \"Furniture and Woodwork Collection\", \"Absent\": 2, \"Count\": 24.0}, {\"Department\": \"Museum of Childhood\", \"Absent\": 2, \"Count\": 2.0}, {\"Department\": \"Theatre and Performance Collection\", \"Absent\": 2, \"Count\": 3.0}, {\"Department\": \"Prints, Drawings & Paintings Collection\", \"Absent\": 2, \"Count\": 28.0}, {\"Department\": \"East Asia Collection\", \"Absent\": 2, \"Count\": 47.0}, {\"Department\": \"Ceramics Collection\", \"Absent\": 2, \"Count\": 1.0}, {\"Department\": \"Sculpture Collection\", \"Absent\": 2, \"Count\": 6.0}, {\"Department\": \"Textiles and Fashion Collection\", \"Absent\": 2, \"Count\": 8.0}, {\"Department\": \"Middle East Section\", \"Absent\": 2, \"Count\": 4.0}, {\"Department\": \"South & South East Asia Collection\", \"Absent\": 2, \"Count\": 10.0}, {\"Department\": \"Metalwork Collection\", \"Absent\": 2, \"Count\": 2.0}, {\"Department\": \"National Art Library\", \"Absent\": 2, \"Count\": 1.0}, {\"Department\": \"Furniture and Woodwork Collection\", \"Absent\": 3, \"Count\": 0.0}, {\"Department\": \"Museum of Childhood\", \"Absent\": 3, \"Count\": 0.0}, {\"Department\": \"Theatre and Performance Collection\", \"Absent\": 3, \"Count\": 0.0}, {\"Department\": \"Prints, Drawings & Paintings Collection\", \"Absent\": 3, \"Count\": 1.0}, {\"Department\": \"East Asia Collection\", \"Absent\": 3, \"Count\": 6.0}, {\"Department\": \"Ceramics Collection\", \"Absent\": 3, \"Count\": 1.0}, {\"Department\": \"Sculpture Collection\", \"Absent\": 3, \"Count\": 0.0}, {\"Department\": \"Textiles and Fashion Collection\", \"Absent\": 3, \"Count\": 0.0}, {\"Department\": \"Middle East Section\", \"Absent\": 3, \"Count\": 0.0}, {\"Department\": \"South & South East Asia Collection\", \"Absent\": 3, \"Count\": 1.0}, {\"Department\": \"Metalwork Collection\", \"Absent\": 3, \"Count\": 0.0}, {\"Department\": \"National Art Library\", \"Absent\": 3, \"Count\": 0.0}]}}, {\"mode\": \"vega-lite\"});\n",
       "</script>"
      ],
      "text/plain": [
       "alt.Chart(...)"
      ]
     },
     "execution_count": 6,
     "metadata": {},
     "output_type": "execute_result"
    }
   ],
   "source": [
    "import altair as alt\n",
    "import numpy as np\n",
    "\n",
    "ranges = [0,0.1,0.2,0.3,0.4,0.5,0.6,0.7,0.8,0.9,1]\n",
    "count =0\n",
    "\n",
    "dept_col_counts = None\n",
    "depts = missing_entities_df[' collectionCode'].unique()\n",
    "charts = []\n",
    "hcharts = []\n",
    "dept_rows_df = pd.DataFrame()\n",
    "for dept_code in depts:\n",
    "  dept_stats_df = missing_entities_df.loc[missing_entities_df[' collectionCode'] == dept_code]\n",
    "  if(len(dept_stats_df) < 10):\n",
    "    # Ignore EXH and other errartic departments\n",
    "    continue\n",
    "  # Now need to loop over each completeness coll in turn\n",
    "\n",
    "  dept_col_counts = dept_stats_df.groupby(' ruleCatalog:score]').size()\n",
    "  dept_col_counts.name = deptNames[dept_code]\n",
    "  dept_rows_df = dept_rows_df.append(dept_col_counts) #, ignore_index=True)\n",
    "    \n",
    "dept_rows_df = dept_rows_df.rename_axis('Department')# .rename_axis('Missing', axis='columns')\n",
    "    # TO handle converting from CategoricalIndex - may change https://github.com/pandas-dev/pandas/issues/19136\n",
    "#  dept_rows_df.columns = dept_rows_df.columns.tolist()\n",
    " #   print(dept_rows_df)\n",
    "dept_rows_df = dept_rows_df.reset_index()\n",
    "\n",
    "dept_rows_melt_df = dept_rows_df.melt(id_vars=['Department'], var_name='Absent', value_name='Count')\n",
    "dept_rows_melt_df.replace(np.nan, 0, inplace=True) \n",
    "#dept_rows_melt_df\n",
    "chart = alt.Chart(dept_rows_melt_df).mark_bar().encode(\n",
    "       x=alt.X('Count:Q', axis=alt.Axis(title='Object Records')),\n",
    "       y='Department:O',\n",
    "        color='Absent:Q',\n",
    "       tooltip=['Absent', 'Count']\n",
    "    ).properties(width=600, title=\"Potential Missing Entities (Techniques)\")\n",
    "#dept_rows_df\n",
    "chart"
   ]
  },
  {
   "cell_type": "markdown",
   "metadata": {},
   "source": [
    "## Sample Objects"
   ]
  },
  {
   "cell_type": "code",
   "execution_count": null,
   "metadata": {
    "tags": [
     "hide-input"
    ]
   },
   "outputs": [],
   "source": [
    "sample_df = missing_entities_df.sample(20)\n",
    "sample_df['[systemNumber']"
   ]
  }
 ],
 "metadata": {
  "kernelspec": {
   "display_name": "Python 3",
   "language": "python",
   "name": "python3"
  },
  "language_info": {
   "codemirror_mode": {
    "name": "ipython",
    "version": 3
   },
   "file_extension": ".py",
   "mimetype": "text/x-python",
   "name": "python",
   "nbconvert_exporter": "python",
   "pygments_lexer": "ipython3",
   "version": "3.8.10"
  }
 },
 "nbformat": 4,
 "nbformat_minor": 4
}

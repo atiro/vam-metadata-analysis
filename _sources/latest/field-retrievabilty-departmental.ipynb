{
 "cells": [
  {
   "cell_type": "markdown",
   "metadata": {},
   "source": [
    "# Retrievability (Departmental)"
   ]
  },
  {
   "cell_type": "code",
   "execution_count": 1,
   "metadata": {
    "tags": [
     "remove-cell"
    ]
   },
   "outputs": [],
   "source": [
    "import glob\n",
    "import pandas as pd\n",
    "\n",
    "objects_df = pd.read_hdf('/home/richard/Git/bbk-mqaf/data/latest/retrieval.h5')"
   ]
  },
  {
   "cell_type": "code",
   "execution_count": 2,
   "metadata": {
    "tags": [
     "remove-cell"
    ]
   },
   "outputs": [],
   "source": [
    "# First create new data frame reducing down to just the columns we need\n",
    "\n",
    "complete_df = objects_df.filter(regex='collectionCode|completeness*', axis=1)"
   ]
  },
  {
   "cell_type": "code",
   "execution_count": 3,
   "metadata": {
    "tags": [
     "remove-cell"
    ]
   },
   "outputs": [],
   "source": [
    "depts = complete_df[' collectionCode'].unique()"
   ]
  },
  {
   "cell_type": "code",
   "execution_count": 4,
   "metadata": {
    "tags": [
     "remove-cell"
    ]
   },
   "outputs": [],
   "source": [
    "import re\n",
    "tidied_df = complete_df.rename(columns=lambda x: re.sub('completeness:','',x))"
   ]
  },
  {
   "cell_type": "code",
   "execution_count": 5,
   "metadata": {
    "tags": [
     "remove-cell"
    ]
   },
   "outputs": [],
   "source": [
    "deptNames = {\"APS\": \"Apsley House\",\n",
    "             \"CER\": \"Ceramics Collection\",\n",
    "             \"CIRC\": \"Circulation Department (1909 – 1977)\",\n",
    "             \"DAD\": \"Design, Architecture and Digital Department\",\n",
    "             \"EAS\": \"East Asia Collection\",\n",
    "             \"EXH\": \"Exhibitions Department\",\n",
    "             \"FoB\": \"Fabric of the Building\",\n",
    "             \"FWK\": \"Furniture and Woodwork Collection\",\n",
    "             \"MES\": \"Middle East Section\",\n",
    "             \"MET\": \"Metalwork Collection\",\n",
    "             \"MoC\": \"Museum of Childhood\",\n",
    "             \"NAL\": \"National Art Library\",\n",
    "             \"PDP\": \"Prints, Drawings & Paintings Collection\",\n",
    "             \"RPS\": \"Royal Photographic Society Collection\",\n",
    "             \"SCP\": \"Sculpture Collection\",\n",
    "             \"SSEA\": \"South & South East Asia Collection\",\n",
    "             \"T&F\": \"Textiles and Fashion Collection\",\n",
    "             \"T&P\": \"Theatre and Performance Collection\",\n",
    "             \"VAA\": \"V&A Archive Collection\",\n",
    "             \"WED\": \"Wedgwood Collection\",\n",
    "             \"AAD\": \"Archive of Art and Design\",\n",
    "             \"DOP\": \"Department of Photography\"}"
   ]
  },
  {
   "cell_type": "code",
   "execution_count": 6,
   "metadata": {
    "tags": [
     "hide-input",
     "full-width"
    ]
   },
   "outputs": [
    {
     "data": {
      "text/html": [
       "\n",
       "<div id=\"altair-viz-0571eaf24a914978bb6ecb6107149119\"></div>\n",
       "<script type=\"text/javascript\">\n",
       "  (function(spec, embedOpt){\n",
       "    let outputDiv = document.currentScript.previousElementSibling;\n",
       "    if (outputDiv.id !== \"altair-viz-0571eaf24a914978bb6ecb6107149119\") {\n",
       "      outputDiv = document.getElementById(\"altair-viz-0571eaf24a914978bb6ecb6107149119\");\n",
       "    }\n",
       "    const paths = {\n",
       "      \"vega\": \"https://cdn.jsdelivr.net/npm//vega@5?noext\",\n",
       "      \"vega-lib\": \"https://cdn.jsdelivr.net/npm//vega-lib?noext\",\n",
       "      \"vega-lite\": \"https://cdn.jsdelivr.net/npm//vega-lite@4.8.1?noext\",\n",
       "      \"vega-embed\": \"https://cdn.jsdelivr.net/npm//vega-embed@6?noext\",\n",
       "    };\n",
       "\n",
       "    function loadScript(lib) {\n",
       "      return new Promise(function(resolve, reject) {\n",
       "        var s = document.createElement('script');\n",
       "        s.src = paths[lib];\n",
       "        s.async = true;\n",
       "        s.onload = () => resolve(paths[lib]);\n",
       "        s.onerror = () => reject(`Error loading script: ${paths[lib]}`);\n",
       "        document.getElementsByTagName(\"head\")[0].appendChild(s);\n",
       "      });\n",
       "    }\n",
       "\n",
       "    function showError(err) {\n",
       "      outputDiv.innerHTML = `<div class=\"error\" style=\"color:red;\">${err}</div>`;\n",
       "      throw err;\n",
       "    }\n",
       "\n",
       "    function displayChart(vegaEmbed) {\n",
       "      vegaEmbed(outputDiv, spec, embedOpt)\n",
       "        .catch(err => showError(`Javascript Error: ${err.message}<br>This usually means there's a typo in your chart specification. See the javascript console for the full traceback.`));\n",
       "    }\n",
       "\n",
       "    if(typeof define === \"function\" && define.amd) {\n",
       "      requirejs.config({paths});\n",
       "      require([\"vega-embed\"], displayChart, err => showError(`Error loading script: ${err.message}`));\n",
       "    } else if (typeof vegaEmbed === \"function\") {\n",
       "      displayChart(vegaEmbed);\n",
       "    } else {\n",
       "      loadScript(\"vega\")\n",
       "        .then(() => loadScript(\"vega-lite\"))\n",
       "        .then(() => loadScript(\"vega-embed\"))\n",
       "        .catch(showError)\n",
       "        .then(() => displayChart(vegaEmbed));\n",
       "    }\n",
       "  })({\"config\": {\"view\": {\"continuousWidth\": 400, \"continuousHeight\": 300}, \"concat\": {\"spacing\": 20}}, \"vconcat\": [{\"hconcat\": [{\"data\": {\"name\": \"data-1b6dcd4fd61149ea7536b5cb7faf7cab\"}, \"mark\": \"bar\", \"encoding\": {\"color\": {\"type\": \"ordinal\", \"field\": \"variable\"}, \"tooltip\": [{\"type\": \"nominal\", \"field\": \"variable\"}, {\"type\": \"quantitative\", \"field\": \"value\"}], \"x\": {\"type\": \"quantitative\", \"axis\": {\"title\": \"Objects\"}, \"field\": \"value\"}, \"y\": {\"type\": \"ordinal\", \"field\": \"Retrievability\"}}, \"title\": \"Prints, Drawings & Paintings Collection (762010)\", \"width\": 220}, {\"data\": {\"name\": \"data-b69a4efc0eaac0fb0b8916b3082449d8\"}, \"mark\": \"bar\", \"encoding\": {\"color\": {\"type\": \"ordinal\", \"field\": \"variable\"}, \"tooltip\": [{\"type\": \"nominal\", \"field\": \"variable\"}, {\"type\": \"quantitative\", \"field\": \"value\"}], \"x\": {\"type\": \"quantitative\", \"axis\": {\"title\": \"Objects\"}, \"field\": \"value\"}, \"y\": {\"type\": \"ordinal\", \"field\": \"Retrievability\"}}, \"title\": \"Metalwork Collection (33726)\", \"width\": 220}, {\"data\": {\"name\": \"data-f3765087bbae7bbd155727fc80474d1e\"}, \"mark\": \"bar\", \"encoding\": {\"color\": {\"type\": \"ordinal\", \"field\": \"variable\"}, \"tooltip\": [{\"type\": \"nominal\", \"field\": \"variable\"}, {\"type\": \"quantitative\", \"field\": \"value\"}], \"x\": {\"type\": \"quantitative\", \"axis\": {\"title\": \"Objects\"}, \"field\": \"value\"}, \"y\": {\"type\": \"ordinal\", \"field\": \"Retrievability\"}}, \"title\": \"Theatre and Performance Collection (79799)\", \"width\": 220}]}, {\"hconcat\": [{\"data\": {\"name\": \"data-38f10582d09fd86b649b8726b26a3d0a\"}, \"mark\": \"bar\", \"encoding\": {\"color\": {\"type\": \"ordinal\", \"field\": \"variable\"}, \"tooltip\": [{\"type\": \"nominal\", \"field\": \"variable\"}, {\"type\": \"quantitative\", \"field\": \"value\"}], \"x\": {\"type\": \"quantitative\", \"axis\": {\"title\": \"Objects\"}, \"field\": \"value\"}, \"y\": {\"type\": \"ordinal\", \"field\": \"Retrievability\"}}, \"title\": \"National Art Library (10710)\", \"width\": 220}, {\"data\": {\"name\": \"data-ed26ba23c27416b5c09068c09861d049\"}, \"mark\": \"bar\", \"encoding\": {\"color\": {\"type\": \"ordinal\", \"field\": \"variable\"}, \"tooltip\": [{\"type\": \"nominal\", \"field\": \"variable\"}, {\"type\": \"quantitative\", \"field\": \"value\"}], \"x\": {\"type\": \"quantitative\", \"axis\": {\"title\": \"Objects\"}, \"field\": \"value\"}, \"y\": {\"type\": \"ordinal\", \"field\": \"Retrievability\"}}, \"title\": \"Department of Photography (13151)\", \"width\": 220}, {\"data\": {\"name\": \"data-ff0ce3a9a6bce4d1ba688d44fe10d8a3\"}, \"mark\": \"bar\", \"encoding\": {\"color\": {\"type\": \"ordinal\", \"field\": \"variable\"}, \"tooltip\": [{\"type\": \"nominal\", \"field\": \"variable\"}, {\"type\": \"quantitative\", \"field\": \"value\"}], \"x\": {\"type\": \"quantitative\", \"axis\": {\"title\": \"Objects\"}, \"field\": \"value\"}, \"y\": {\"type\": \"ordinal\", \"field\": \"Retrievability\"}}, \"title\": \"East Asia Collection (80176)\", \"width\": 220}]}, {\"hconcat\": [{\"data\": {\"name\": \"data-64d77c0adf5ce0caa95f6b28de6ff689\"}, \"mark\": \"bar\", \"encoding\": {\"color\": {\"type\": \"ordinal\", \"field\": \"variable\"}, \"tooltip\": [{\"type\": \"nominal\", \"field\": \"variable\"}, {\"type\": \"quantitative\", \"field\": \"value\"}], \"x\": {\"type\": \"quantitative\", \"axis\": {\"title\": \"Objects\"}, \"field\": \"value\"}, \"y\": {\"type\": \"ordinal\", \"field\": \"Retrievability\"}}, \"title\": \"Textiles and Fashion Collection (72088)\", \"width\": 220}, {\"data\": {\"name\": \"data-2311ffa2d04bddb527345cd3cac7eda8\"}, \"mark\": \"bar\", \"encoding\": {\"color\": {\"type\": \"ordinal\", \"field\": \"variable\"}, \"tooltip\": [{\"type\": \"nominal\", \"field\": \"variable\"}, {\"type\": \"quantitative\", \"field\": \"value\"}], \"x\": {\"type\": \"quantitative\", \"axis\": {\"title\": \"Objects\"}, \"field\": \"value\"}, \"y\": {\"type\": \"ordinal\", \"field\": \"Retrievability\"}}, \"title\": \"Ceramics Collection (59560)\", \"width\": 220}, {\"data\": {\"name\": \"data-5fac5703c8b7308e54844ed68d917058\"}, \"mark\": \"bar\", \"encoding\": {\"color\": {\"type\": \"ordinal\", \"field\": \"variable\"}, \"tooltip\": [{\"type\": \"nominal\", \"field\": \"variable\"}, {\"type\": \"quantitative\", \"field\": \"value\"}], \"x\": {\"type\": \"quantitative\", \"axis\": {\"title\": \"Objects\"}, \"field\": \"value\"}, \"y\": {\"type\": \"ordinal\", \"field\": \"Retrievability\"}}, \"title\": \"South & South East Asia Collection (44018)\", \"width\": 220}]}, {\"hconcat\": [{\"data\": {\"name\": \"data-851f31da2b0dc366195b4afcdbafbe8d\"}, \"mark\": \"bar\", \"encoding\": {\"color\": {\"type\": \"ordinal\", \"field\": \"variable\"}, \"tooltip\": [{\"type\": \"nominal\", \"field\": \"variable\"}, {\"type\": \"quantitative\", \"field\": \"value\"}], \"x\": {\"type\": \"quantitative\", \"axis\": {\"title\": \"Objects\"}, \"field\": \"value\"}, \"y\": {\"type\": \"ordinal\", \"field\": \"Retrievability\"}}, \"title\": \"Middle East Section (14065)\", \"width\": 220}, {\"data\": {\"name\": \"data-6c3d277cc998bdd6bcf16dc6f2b22e9c\"}, \"mark\": \"bar\", \"encoding\": {\"color\": {\"type\": \"ordinal\", \"field\": \"variable\"}, \"tooltip\": [{\"type\": \"nominal\", \"field\": \"variable\"}, {\"type\": \"quantitative\", \"field\": \"value\"}], \"x\": {\"type\": \"quantitative\", \"axis\": {\"title\": \"Objects\"}, \"field\": \"value\"}, \"y\": {\"type\": \"ordinal\", \"field\": \"Retrievability\"}}, \"title\": \"Furniture and Woodwork Collection (10659)\", \"width\": 220}, {\"data\": {\"name\": \"data-1432db31c3a78da5a2dd97aaee4871f1\"}, \"mark\": \"bar\", \"encoding\": {\"color\": {\"type\": \"ordinal\", \"field\": \"variable\"}, \"tooltip\": [{\"type\": \"nominal\", \"field\": \"variable\"}, {\"type\": \"quantitative\", \"field\": \"value\"}], \"x\": {\"type\": \"quantitative\", \"axis\": {\"title\": \"Objects\"}, \"field\": \"value\"}, \"y\": {\"type\": \"ordinal\", \"field\": \"Retrievability\"}}, \"title\": \"Wedgwood Collection (9661)\", \"width\": 220}]}, {\"hconcat\": [{\"data\": {\"name\": \"data-5b8c1f34a387f710aa4a7c41e454533f\"}, \"mark\": \"bar\", \"encoding\": {\"color\": {\"type\": \"ordinal\", \"field\": \"variable\"}, \"tooltip\": [{\"type\": \"nominal\", \"field\": \"variable\"}, {\"type\": \"quantitative\", \"field\": \"value\"}], \"x\": {\"type\": \"quantitative\", \"axis\": {\"title\": \"Objects\"}, \"field\": \"value\"}, \"y\": {\"type\": \"ordinal\", \"field\": \"Retrievability\"}}, \"title\": \"Museum of Childhood (32263)\", \"width\": 220}, {\"data\": {\"name\": \"data-f5d03e58a9cb2cdff052702ddd1c92e6\"}, \"mark\": \"bar\", \"encoding\": {\"color\": {\"type\": \"ordinal\", \"field\": \"variable\"}, \"tooltip\": [{\"type\": \"nominal\", \"field\": \"variable\"}, {\"type\": \"quantitative\", \"field\": \"value\"}], \"x\": {\"type\": \"quantitative\", \"axis\": {\"title\": \"Objects\"}, \"field\": \"value\"}, \"y\": {\"type\": \"ordinal\", \"field\": \"Retrievability\"}}, \"title\": \"Sculpture Collection (16166)\", \"width\": 220}, {\"data\": {\"name\": \"data-e5e82e6a3613289e031ae454ac970a8d\"}, \"mark\": \"bar\", \"encoding\": {\"color\": {\"type\": \"ordinal\", \"field\": \"variable\"}, \"tooltip\": [{\"type\": \"nominal\", \"field\": \"variable\"}, {\"type\": \"quantitative\", \"field\": \"value\"}], \"x\": {\"type\": \"quantitative\", \"axis\": {\"title\": \"Objects\"}, \"field\": \"value\"}, \"y\": {\"type\": \"ordinal\", \"field\": \"Retrievability\"}}, \"title\": \"Design, Architecture and Digital Department (813)\", \"width\": 220}]}, {\"hconcat\": [{\"mark\": \"bar\", \"encoding\": {\"color\": {\"type\": \"ordinal\", \"field\": \"variable\"}, \"tooltip\": [{\"type\": \"nominal\", \"field\": \"variable\"}, {\"type\": \"quantitative\", \"field\": \"value\"}], \"x\": {\"type\": \"quantitative\", \"axis\": {\"title\": \"Objects\"}, \"field\": \"value\"}, \"y\": {\"type\": \"ordinal\", \"field\": \"Retrievability\"}}, \"title\": \"Archive of Art and Design (740)\", \"width\": 220}], \"data\": {\"name\": \"data-ed21bbc33dd327e2f62f6b0530735736\"}}], \"$schema\": \"https://vega.github.io/schema/vega-lite/v4.8.1.json\", \"datasets\": {\"data-1b6dcd4fd61149ea7536b5cb7faf7cab\": [{\"Retrievability\": \" TOTAL\", \"variable\": \"0-10%\", \"value\": 0.0}, {\"Retrievability\": \" SEARCHABILITY\", \"variable\": \"0-10%\", \"value\": 0.0}, {\"Retrievability\": \" BROWSEABILITY\", \"variable\": \"0-10%\", \"value\": 295160.0}, {\"Retrievability\": \" CONNECTIVITY\", \"variable\": \"0-10%\", \"value\": 737065.0}, {\"Retrievability\": \" TOTAL\", \"variable\": \"10-20%\", \"value\": 285259.0}, {\"Retrievability\": \" SEARCHABILITY\", \"variable\": \"10-20%\", \"value\": 285662.0}, {\"Retrievability\": \" BROWSEABILITY\", \"variable\": \"10-20%\", \"value\": 88391.0}, {\"Retrievability\": \" CONNECTIVITY\", \"variable\": \"10-20%\", \"value\": 0.0}, {\"Retrievability\": \" TOTAL\", \"variable\": \"20-30%\", \"value\": 110027.0}, {\"Retrievability\": \" SEARCHABILITY\", \"variable\": \"20-30%\", \"value\": 111709.0}, {\"Retrievability\": \" BROWSEABILITY\", \"variable\": \"20-30%\", \"value\": 65697.0}, {\"Retrievability\": \" CONNECTIVITY\", \"variable\": \"20-30%\", \"value\": 0.0}, {\"Retrievability\": \" TOTAL\", \"variable\": \"30-40%\", \"value\": 247243.0}, {\"Retrievability\": \" SEARCHABILITY\", \"variable\": \"30-40%\", \"value\": 248551.0}, {\"Retrievability\": \" BROWSEABILITY\", \"variable\": \"30-40%\", \"value\": 289283.0}, {\"Retrievability\": \" CONNECTIVITY\", \"variable\": \"30-40%\", \"value\": 0.0}, {\"Retrievability\": \" TOTAL\", \"variable\": \"40-50%\", \"value\": 111789.0}, {\"Retrievability\": \" SEARCHABILITY\", \"variable\": \"40-50%\", \"value\": 110017.0}, {\"Retrievability\": \" BROWSEABILITY\", \"variable\": \"40-50%\", \"value\": 22955.0}, {\"Retrievability\": \" CONNECTIVITY\", \"variable\": \"40-50%\", \"value\": 0.0}, {\"Retrievability\": \" TOTAL\", \"variable\": \"50-60%\", \"value\": 7678.0}, {\"Retrievability\": \" SEARCHABILITY\", \"variable\": \"50-60%\", \"value\": 6051.0}, {\"Retrievability\": \" BROWSEABILITY\", \"variable\": \"50-60%\", \"value\": 513.0}, {\"Retrievability\": \" CONNECTIVITY\", \"variable\": \"50-60%\", \"value\": 0.0}, {\"Retrievability\": \" TOTAL\", \"variable\": \"60-70%\", \"value\": 14.0}, {\"Retrievability\": \" SEARCHABILITY\", \"variable\": \"60-70%\", \"value\": 20.0}, {\"Retrievability\": \" BROWSEABILITY\", \"variable\": \"60-70%\", \"value\": 11.0}, {\"Retrievability\": \" CONNECTIVITY\", \"variable\": \"60-70%\", \"value\": 0.0}, {\"Retrievability\": \" TOTAL\", \"variable\": \"70-80%\", \"value\": 0.0}, {\"Retrievability\": \" SEARCHABILITY\", \"variable\": \"70-80%\", \"value\": 0.0}, {\"Retrievability\": \" BROWSEABILITY\", \"variable\": \"70-80%\", \"value\": 0.0}, {\"Retrievability\": \" CONNECTIVITY\", \"variable\": \"70-80%\", \"value\": 0.0}, {\"Retrievability\": \" TOTAL\", \"variable\": \"80-90%\", \"value\": 0.0}, {\"Retrievability\": \" SEARCHABILITY\", \"variable\": \"80-90%\", \"value\": 0.0}, {\"Retrievability\": \" BROWSEABILITY\", \"variable\": \"80-90%\", \"value\": 0.0}, {\"Retrievability\": \" CONNECTIVITY\", \"variable\": \"80-90%\", \"value\": 0.0}, {\"Retrievability\": \" TOTAL\", \"variable\": \"90-100%\", \"value\": 0.0}, {\"Retrievability\": \" SEARCHABILITY\", \"variable\": \"90-100%\", \"value\": 0.0}, {\"Retrievability\": \" BROWSEABILITY\", \"variable\": \"90-100%\", \"value\": 0.0}, {\"Retrievability\": \" CONNECTIVITY\", \"variable\": \"90-100%\", \"value\": 24945.0}], \"data-b69a4efc0eaac0fb0b8916b3082449d8\": [{\"Retrievability\": \" TOTAL\", \"variable\": \"0-10%\", \"value\": 0.0}, {\"Retrievability\": \" SEARCHABILITY\", \"variable\": \"0-10%\", \"value\": 0.0}, {\"Retrievability\": \" BROWSEABILITY\", \"variable\": \"0-10%\", \"value\": 11705.0}, {\"Retrievability\": \" CONNECTIVITY\", \"variable\": \"0-10%\", \"value\": 31499.0}, {\"Retrievability\": \" TOTAL\", \"variable\": \"10-20%\", \"value\": 11288.0}, {\"Retrievability\": \" SEARCHABILITY\", \"variable\": \"10-20%\", \"value\": 11331.0}, {\"Retrievability\": \" BROWSEABILITY\", \"variable\": \"10-20%\", \"value\": 1200.0}, {\"Retrievability\": \" CONNECTIVITY\", \"variable\": \"10-20%\", \"value\": 0.0}, {\"Retrievability\": \" TOTAL\", \"variable\": \"20-30%\", \"value\": 3078.0}, {\"Retrievability\": \" SEARCHABILITY\", \"variable\": \"20-30%\", \"value\": 3104.0}, {\"Retrievability\": \" BROWSEABILITY\", \"variable\": \"20-30%\", \"value\": 6578.0}, {\"Retrievability\": \" CONNECTIVITY\", \"variable\": \"20-30%\", \"value\": 0.0}, {\"Retrievability\": \" TOTAL\", \"variable\": \"30-40%\", \"value\": 15444.0}, {\"Retrievability\": \" SEARCHABILITY\", \"variable\": \"30-40%\", \"value\": 15988.0}, {\"Retrievability\": \" BROWSEABILITY\", \"variable\": \"30-40%\", \"value\": 13802.0}, {\"Retrievability\": \" CONNECTIVITY\", \"variable\": \"30-40%\", \"value\": 0.0}, {\"Retrievability\": \" TOTAL\", \"variable\": \"40-50%\", \"value\": 3838.0}, {\"Retrievability\": \" SEARCHABILITY\", \"variable\": \"40-50%\", \"value\": 3246.0}, {\"Retrievability\": \" BROWSEABILITY\", \"variable\": \"40-50%\", \"value\": 419.0}, {\"Retrievability\": \" CONNECTIVITY\", \"variable\": \"40-50%\", \"value\": 0.0}, {\"Retrievability\": \" TOTAL\", \"variable\": \"50-60%\", \"value\": 77.0}, {\"Retrievability\": \" SEARCHABILITY\", \"variable\": \"50-60%\", \"value\": 54.0}, {\"Retrievability\": \" BROWSEABILITY\", \"variable\": \"50-60%\", \"value\": 19.0}, {\"Retrievability\": \" CONNECTIVITY\", \"variable\": \"50-60%\", \"value\": 0.0}, {\"Retrievability\": \" TOTAL\", \"variable\": \"60-70%\", \"value\": 1.0}, {\"Retrievability\": \" SEARCHABILITY\", \"variable\": \"60-70%\", \"value\": 3.0}, {\"Retrievability\": \" BROWSEABILITY\", \"variable\": \"60-70%\", \"value\": 3.0}, {\"Retrievability\": \" CONNECTIVITY\", \"variable\": \"60-70%\", \"value\": 0.0}, {\"Retrievability\": \" TOTAL\", \"variable\": \"70-80%\", \"value\": 0.0}, {\"Retrievability\": \" SEARCHABILITY\", \"variable\": \"70-80%\", \"value\": 0.0}, {\"Retrievability\": \" BROWSEABILITY\", \"variable\": \"70-80%\", \"value\": 0.0}, {\"Retrievability\": \" CONNECTIVITY\", \"variable\": \"70-80%\", \"value\": 0.0}, {\"Retrievability\": \" TOTAL\", \"variable\": \"80-90%\", \"value\": 0.0}, {\"Retrievability\": \" SEARCHABILITY\", \"variable\": \"80-90%\", \"value\": 0.0}, {\"Retrievability\": \" BROWSEABILITY\", \"variable\": \"80-90%\", \"value\": 0.0}, {\"Retrievability\": \" CONNECTIVITY\", \"variable\": \"80-90%\", \"value\": 0.0}, {\"Retrievability\": \" TOTAL\", \"variable\": \"90-100%\", \"value\": 0.0}, {\"Retrievability\": \" SEARCHABILITY\", \"variable\": \"90-100%\", \"value\": 0.0}, {\"Retrievability\": \" BROWSEABILITY\", \"variable\": \"90-100%\", \"value\": 0.0}, {\"Retrievability\": \" CONNECTIVITY\", \"variable\": \"90-100%\", \"value\": 2227.0}], \"data-f3765087bbae7bbd155727fc80474d1e\": [{\"Retrievability\": \" TOTAL\", \"variable\": \"0-10%\", \"value\": 0.0}, {\"Retrievability\": \" SEARCHABILITY\", \"variable\": \"0-10%\", \"value\": 0.0}, {\"Retrievability\": \" BROWSEABILITY\", \"variable\": \"0-10%\", \"value\": 3048.0}, {\"Retrievability\": \" CONNECTIVITY\", \"variable\": \"0-10%\", \"value\": 75243.0}, {\"Retrievability\": \" TOTAL\", \"variable\": \"10-20%\", \"value\": 2112.0}, {\"Retrievability\": \" SEARCHABILITY\", \"variable\": \"10-20%\", \"value\": 2138.0}, {\"Retrievability\": \" BROWSEABILITY\", \"variable\": \"10-20%\", \"value\": 9378.0}, {\"Retrievability\": \" CONNECTIVITY\", \"variable\": \"10-20%\", \"value\": 0.0}, {\"Retrievability\": \" TOTAL\", \"variable\": \"20-30%\", \"value\": 11935.0}, {\"Retrievability\": \" SEARCHABILITY\", \"variable\": \"20-30%\", \"value\": 12052.0}, {\"Retrievability\": \" BROWSEABILITY\", \"variable\": \"20-30%\", \"value\": 17720.0}, {\"Retrievability\": \" CONNECTIVITY\", \"variable\": \"20-30%\", \"value\": 0.0}, {\"Retrievability\": \" TOTAL\", \"variable\": \"30-40%\", \"value\": 30706.0}, {\"Retrievability\": \" SEARCHABILITY\", \"variable\": \"30-40%\", \"value\": 31240.0}, {\"Retrievability\": \" BROWSEABILITY\", \"variable\": \"30-40%\", \"value\": 48343.0}, {\"Retrievability\": \" CONNECTIVITY\", \"variable\": \"30-40%\", \"value\": 0.0}, {\"Retrievability\": \" TOTAL\", \"variable\": \"40-50%\", \"value\": 34894.0}, {\"Retrievability\": \" SEARCHABILITY\", \"variable\": \"40-50%\", \"value\": 34267.0}, {\"Retrievability\": \" BROWSEABILITY\", \"variable\": \"40-50%\", \"value\": 1302.0}, {\"Retrievability\": \" CONNECTIVITY\", \"variable\": \"40-50%\", \"value\": 0.0}, {\"Retrievability\": \" TOTAL\", \"variable\": \"50-60%\", \"value\": 152.0}, {\"Retrievability\": \" SEARCHABILITY\", \"variable\": \"50-60%\", \"value\": 102.0}, {\"Retrievability\": \" BROWSEABILITY\", \"variable\": \"50-60%\", \"value\": 8.0}, {\"Retrievability\": \" CONNECTIVITY\", \"variable\": \"50-60%\", \"value\": 0.0}, {\"Retrievability\": \" TOTAL\", \"variable\": \"60-70%\", \"value\": 0.0}, {\"Retrievability\": \" SEARCHABILITY\", \"variable\": \"60-70%\", \"value\": 0.0}, {\"Retrievability\": \" BROWSEABILITY\", \"variable\": \"60-70%\", \"value\": 0.0}, {\"Retrievability\": \" CONNECTIVITY\", \"variable\": \"60-70%\", \"value\": 0.0}, {\"Retrievability\": \" TOTAL\", \"variable\": \"70-80%\", \"value\": 0.0}, {\"Retrievability\": \" SEARCHABILITY\", \"variable\": \"70-80%\", \"value\": 0.0}, {\"Retrievability\": \" BROWSEABILITY\", \"variable\": \"70-80%\", \"value\": 0.0}, {\"Retrievability\": \" CONNECTIVITY\", \"variable\": \"70-80%\", \"value\": 0.0}, {\"Retrievability\": \" TOTAL\", \"variable\": \"80-90%\", \"value\": 0.0}, {\"Retrievability\": \" SEARCHABILITY\", \"variable\": \"80-90%\", \"value\": 0.0}, {\"Retrievability\": \" BROWSEABILITY\", \"variable\": \"80-90%\", \"value\": 0.0}, {\"Retrievability\": \" CONNECTIVITY\", \"variable\": \"80-90%\", \"value\": 0.0}, {\"Retrievability\": \" TOTAL\", \"variable\": \"90-100%\", \"value\": 0.0}, {\"Retrievability\": \" SEARCHABILITY\", \"variable\": \"90-100%\", \"value\": 0.0}, {\"Retrievability\": \" BROWSEABILITY\", \"variable\": \"90-100%\", \"value\": 0.0}, {\"Retrievability\": \" CONNECTIVITY\", \"variable\": \"90-100%\", \"value\": 4556.0}], \"data-38f10582d09fd86b649b8726b26a3d0a\": [{\"Retrievability\": \" TOTAL\", \"variable\": \"0-10%\", \"value\": 0.0}, {\"Retrievability\": \" SEARCHABILITY\", \"variable\": \"0-10%\", \"value\": 0.0}, {\"Retrievability\": \" BROWSEABILITY\", \"variable\": \"0-10%\", \"value\": 970.0}, {\"Retrievability\": \" CONNECTIVITY\", \"variable\": \"0-10%\", \"value\": 10436.0}, {\"Retrievability\": \" TOTAL\", \"variable\": \"10-20%\", \"value\": 374.0}, {\"Retrievability\": \" SEARCHABILITY\", \"variable\": \"10-20%\", \"value\": 377.0}, {\"Retrievability\": \" BROWSEABILITY\", \"variable\": \"10-20%\", \"value\": 1359.0}, {\"Retrievability\": \" CONNECTIVITY\", \"variable\": \"10-20%\", \"value\": 0.0}, {\"Retrievability\": \" TOTAL\", \"variable\": \"20-30%\", \"value\": 2269.0}, {\"Retrievability\": \" SEARCHABILITY\", \"variable\": \"20-30%\", \"value\": 2269.0}, {\"Retrievability\": \" BROWSEABILITY\", \"variable\": \"20-30%\", \"value\": 6115.0}, {\"Retrievability\": \" CONNECTIVITY\", \"variable\": \"20-30%\", \"value\": 0.0}, {\"Retrievability\": \" TOTAL\", \"variable\": \"30-40%\", \"value\": 6261.0}, {\"Retrievability\": \" SEARCHABILITY\", \"variable\": \"30-40%\", \"value\": 6287.0}, {\"Retrievability\": \" BROWSEABILITY\", \"variable\": \"30-40%\", \"value\": 2134.0}, {\"Retrievability\": \" CONNECTIVITY\", \"variable\": \"30-40%\", \"value\": 0.0}, {\"Retrievability\": \" TOTAL\", \"variable\": \"40-50%\", \"value\": 1673.0}, {\"Retrievability\": \" SEARCHABILITY\", \"variable\": \"40-50%\", \"value\": 1665.0}, {\"Retrievability\": \" BROWSEABILITY\", \"variable\": \"40-50%\", \"value\": 103.0}, {\"Retrievability\": \" CONNECTIVITY\", \"variable\": \"40-50%\", \"value\": 0.0}, {\"Retrievability\": \" TOTAL\", \"variable\": \"50-60%\", \"value\": 133.0}, {\"Retrievability\": \" SEARCHABILITY\", \"variable\": \"50-60%\", \"value\": 112.0}, {\"Retrievability\": \" BROWSEABILITY\", \"variable\": \"50-60%\", \"value\": 29.0}, {\"Retrievability\": \" CONNECTIVITY\", \"variable\": \"50-60%\", \"value\": 0.0}, {\"Retrievability\": \" TOTAL\", \"variable\": \"60-70%\", \"value\": 0.0}, {\"Retrievability\": \" SEARCHABILITY\", \"variable\": \"60-70%\", \"value\": 0.0}, {\"Retrievability\": \" BROWSEABILITY\", \"variable\": \"60-70%\", \"value\": 0.0}, {\"Retrievability\": \" CONNECTIVITY\", \"variable\": \"60-70%\", \"value\": 0.0}, {\"Retrievability\": \" TOTAL\", \"variable\": \"70-80%\", \"value\": 0.0}, {\"Retrievability\": \" SEARCHABILITY\", \"variable\": \"70-80%\", \"value\": 0.0}, {\"Retrievability\": \" BROWSEABILITY\", \"variable\": \"70-80%\", \"value\": 0.0}, {\"Retrievability\": \" CONNECTIVITY\", \"variable\": \"70-80%\", \"value\": 0.0}, {\"Retrievability\": \" TOTAL\", \"variable\": \"80-90%\", \"value\": 0.0}, {\"Retrievability\": \" SEARCHABILITY\", \"variable\": \"80-90%\", \"value\": 0.0}, {\"Retrievability\": \" BROWSEABILITY\", \"variable\": \"80-90%\", \"value\": 0.0}, {\"Retrievability\": \" CONNECTIVITY\", \"variable\": \"80-90%\", \"value\": 0.0}, {\"Retrievability\": \" TOTAL\", \"variable\": \"90-100%\", \"value\": 0.0}, {\"Retrievability\": \" SEARCHABILITY\", \"variable\": \"90-100%\", \"value\": 0.0}, {\"Retrievability\": \" BROWSEABILITY\", \"variable\": \"90-100%\", \"value\": 0.0}, {\"Retrievability\": \" CONNECTIVITY\", \"variable\": \"90-100%\", \"value\": 274.0}], \"data-ed26ba23c27416b5c09068c09861d049\": [{\"Retrievability\": \" TOTAL\", \"variable\": \"0-10%\", \"value\": 0.0}, {\"Retrievability\": \" SEARCHABILITY\", \"variable\": \"0-10%\", \"value\": 0.0}, {\"Retrievability\": \" BROWSEABILITY\", \"variable\": \"0-10%\", \"value\": 2489.0}, {\"Retrievability\": \" CONNECTIVITY\", \"variable\": \"0-10%\", \"value\": 8665.0}, {\"Retrievability\": \" TOTAL\", \"variable\": \"10-20%\", \"value\": 1926.0}, {\"Retrievability\": \" SEARCHABILITY\", \"variable\": \"10-20%\", \"value\": 2072.0}, {\"Retrievability\": \" BROWSEABILITY\", \"variable\": \"10-20%\", \"value\": 1479.0}, {\"Retrievability\": \" CONNECTIVITY\", \"variable\": \"10-20%\", \"value\": 0.0}, {\"Retrievability\": \" TOTAL\", \"variable\": \"20-30%\", \"value\": 2506.0}, {\"Retrievability\": \" SEARCHABILITY\", \"variable\": \"20-30%\", \"value\": 2369.0}, {\"Retrievability\": \" BROWSEABILITY\", \"variable\": \"20-30%\", \"value\": 3735.0}, {\"Retrievability\": \" CONNECTIVITY\", \"variable\": \"20-30%\", \"value\": 0.0}, {\"Retrievability\": \" TOTAL\", \"variable\": \"30-40%\", \"value\": 3820.0}, {\"Retrievability\": \" SEARCHABILITY\", \"variable\": \"30-40%\", \"value\": 4294.0}, {\"Retrievability\": \" BROWSEABILITY\", \"variable\": \"30-40%\", \"value\": 5053.0}, {\"Retrievability\": \" CONNECTIVITY\", \"variable\": \"30-40%\", \"value\": 0.0}, {\"Retrievability\": \" TOTAL\", \"variable\": \"40-50%\", \"value\": 4405.0}, {\"Retrievability\": \" SEARCHABILITY\", \"variable\": \"40-50%\", \"value\": 4216.0}, {\"Retrievability\": \" BROWSEABILITY\", \"variable\": \"40-50%\", \"value\": 382.0}, {\"Retrievability\": \" CONNECTIVITY\", \"variable\": \"40-50%\", \"value\": 0.0}, {\"Retrievability\": \" TOTAL\", \"variable\": \"50-60%\", \"value\": 494.0}, {\"Retrievability\": \" SEARCHABILITY\", \"variable\": \"50-60%\", \"value\": 200.0}, {\"Retrievability\": \" BROWSEABILITY\", \"variable\": \"50-60%\", \"value\": 13.0}, {\"Retrievability\": \" CONNECTIVITY\", \"variable\": \"50-60%\", \"value\": 0.0}, {\"Retrievability\": \" TOTAL\", \"variable\": \"60-70%\", \"value\": 0.0}, {\"Retrievability\": \" SEARCHABILITY\", \"variable\": \"60-70%\", \"value\": 0.0}, {\"Retrievability\": \" BROWSEABILITY\", \"variable\": \"60-70%\", \"value\": 0.0}, {\"Retrievability\": \" CONNECTIVITY\", \"variable\": \"60-70%\", \"value\": 0.0}, {\"Retrievability\": \" TOTAL\", \"variable\": \"70-80%\", \"value\": 0.0}, {\"Retrievability\": \" SEARCHABILITY\", \"variable\": \"70-80%\", \"value\": 0.0}, {\"Retrievability\": \" BROWSEABILITY\", \"variable\": \"70-80%\", \"value\": 0.0}, {\"Retrievability\": \" CONNECTIVITY\", \"variable\": \"70-80%\", \"value\": 0.0}, {\"Retrievability\": \" TOTAL\", \"variable\": \"80-90%\", \"value\": 0.0}, {\"Retrievability\": \" SEARCHABILITY\", \"variable\": \"80-90%\", \"value\": 0.0}, {\"Retrievability\": \" BROWSEABILITY\", \"variable\": \"80-90%\", \"value\": 0.0}, {\"Retrievability\": \" CONNECTIVITY\", \"variable\": \"80-90%\", \"value\": 0.0}, {\"Retrievability\": \" TOTAL\", \"variable\": \"90-100%\", \"value\": 0.0}, {\"Retrievability\": \" SEARCHABILITY\", \"variable\": \"90-100%\", \"value\": 0.0}, {\"Retrievability\": \" BROWSEABILITY\", \"variable\": \"90-100%\", \"value\": 0.0}, {\"Retrievability\": \" CONNECTIVITY\", \"variable\": \"90-100%\", \"value\": 4486.0}], \"data-ff0ce3a9a6bce4d1ba688d44fe10d8a3\": [{\"Retrievability\": \" TOTAL\", \"variable\": \"0-10%\", \"value\": 0.0}, {\"Retrievability\": \" SEARCHABILITY\", \"variable\": \"0-10%\", \"value\": 0.0}, {\"Retrievability\": \" BROWSEABILITY\", \"variable\": \"0-10%\", \"value\": 59147.0}, {\"Retrievability\": \" CONNECTIVITY\", \"variable\": \"0-10%\", \"value\": 79549.0}, {\"Retrievability\": \" TOTAL\", \"variable\": \"10-20%\", \"value\": 54861.0}, {\"Retrievability\": \" SEARCHABILITY\", \"variable\": \"10-20%\", \"value\": 54878.0}, {\"Retrievability\": \" BROWSEABILITY\", \"variable\": \"10-20%\", \"value\": 2130.0}, {\"Retrievability\": \" CONNECTIVITY\", \"variable\": \"10-20%\", \"value\": 0.0}, {\"Retrievability\": \" TOTAL\", \"variable\": \"20-30%\", \"value\": 9804.0}, {\"Retrievability\": \" SEARCHABILITY\", \"variable\": \"20-30%\", \"value\": 9846.0}, {\"Retrievability\": \" BROWSEABILITY\", \"variable\": \"20-30%\", \"value\": 7373.0}, {\"Retrievability\": \" CONNECTIVITY\", \"variable\": \"20-30%\", \"value\": 0.0}, {\"Retrievability\": \" TOTAL\", \"variable\": \"30-40%\", \"value\": 10851.0}, {\"Retrievability\": \" SEARCHABILITY\", \"variable\": \"30-40%\", \"value\": 10909.0}, {\"Retrievability\": \" BROWSEABILITY\", \"variable\": \"30-40%\", \"value\": 11183.0}, {\"Retrievability\": \" CONNECTIVITY\", \"variable\": \"30-40%\", \"value\": 0.0}, {\"Retrievability\": \" TOTAL\", \"variable\": \"40-50%\", \"value\": 4629.0}, {\"Retrievability\": \" SEARCHABILITY\", \"variable\": \"40-50%\", \"value\": 4528.0}, {\"Retrievability\": \" BROWSEABILITY\", \"variable\": \"40-50%\", \"value\": 342.0}, {\"Retrievability\": \" CONNECTIVITY\", \"variable\": \"40-50%\", \"value\": 0.0}, {\"Retrievability\": \" TOTAL\", \"variable\": \"50-60%\", \"value\": 31.0}, {\"Retrievability\": \" SEARCHABILITY\", \"variable\": \"50-60%\", \"value\": 15.0}, {\"Retrievability\": \" BROWSEABILITY\", \"variable\": \"50-60%\", \"value\": 0.0}, {\"Retrievability\": \" CONNECTIVITY\", \"variable\": \"50-60%\", \"value\": 0.0}, {\"Retrievability\": \" TOTAL\", \"variable\": \"60-70%\", \"value\": 0.0}, {\"Retrievability\": \" SEARCHABILITY\", \"variable\": \"60-70%\", \"value\": 0.0}, {\"Retrievability\": \" BROWSEABILITY\", \"variable\": \"60-70%\", \"value\": 1.0}, {\"Retrievability\": \" CONNECTIVITY\", \"variable\": \"60-70%\", \"value\": 0.0}, {\"Retrievability\": \" TOTAL\", \"variable\": \"70-80%\", \"value\": 0.0}, {\"Retrievability\": \" SEARCHABILITY\", \"variable\": \"70-80%\", \"value\": 0.0}, {\"Retrievability\": \" BROWSEABILITY\", \"variable\": \"70-80%\", \"value\": 0.0}, {\"Retrievability\": \" CONNECTIVITY\", \"variable\": \"70-80%\", \"value\": 0.0}, {\"Retrievability\": \" TOTAL\", \"variable\": \"80-90%\", \"value\": 0.0}, {\"Retrievability\": \" SEARCHABILITY\", \"variable\": \"80-90%\", \"value\": 0.0}, {\"Retrievability\": \" BROWSEABILITY\", \"variable\": \"80-90%\", \"value\": 0.0}, {\"Retrievability\": \" CONNECTIVITY\", \"variable\": \"80-90%\", \"value\": 0.0}, {\"Retrievability\": \" TOTAL\", \"variable\": \"90-100%\", \"value\": 0.0}, {\"Retrievability\": \" SEARCHABILITY\", \"variable\": \"90-100%\", \"value\": 0.0}, {\"Retrievability\": \" BROWSEABILITY\", \"variable\": \"90-100%\", \"value\": 0.0}, {\"Retrievability\": \" CONNECTIVITY\", \"variable\": \"90-100%\", \"value\": 627.0}], \"data-64d77c0adf5ce0caa95f6b28de6ff689\": [{\"Retrievability\": \" TOTAL\", \"variable\": \"0-10%\", \"value\": 0.0}, {\"Retrievability\": \" SEARCHABILITY\", \"variable\": \"0-10%\", \"value\": 0.0}, {\"Retrievability\": \" BROWSEABILITY\", \"variable\": \"0-10%\", \"value\": 1285.0}, {\"Retrievability\": \" CONNECTIVITY\", \"variable\": \"0-10%\", \"value\": 69444.0}, {\"Retrievability\": \" TOTAL\", \"variable\": \"10-20%\", \"value\": 846.0}, {\"Retrievability\": \" SEARCHABILITY\", \"variable\": \"10-20%\", \"value\": 859.0}, {\"Retrievability\": \" BROWSEABILITY\", \"variable\": \"10-20%\", \"value\": 23663.0}, {\"Retrievability\": \" CONNECTIVITY\", \"variable\": \"10-20%\", \"value\": 0.0}, {\"Retrievability\": \" TOTAL\", \"variable\": \"20-30%\", \"value\": 36819.0}, {\"Retrievability\": \" SEARCHABILITY\", \"variable\": \"20-30%\", \"value\": 37239.0}, {\"Retrievability\": \" BROWSEABILITY\", \"variable\": \"20-30%\", \"value\": 24511.0}, {\"Retrievability\": \" CONNECTIVITY\", \"variable\": \"20-30%\", \"value\": 0.0}, {\"Retrievability\": \" TOTAL\", \"variable\": \"30-40%\", \"value\": 31900.0}, {\"Retrievability\": \" SEARCHABILITY\", \"variable\": \"30-40%\", \"value\": 31668.0}, {\"Retrievability\": \" BROWSEABILITY\", \"variable\": \"30-40%\", \"value\": 22397.0}, {\"Retrievability\": \" CONNECTIVITY\", \"variable\": \"30-40%\", \"value\": 0.0}, {\"Retrievability\": \" TOTAL\", \"variable\": \"40-50%\", \"value\": 2498.0}, {\"Retrievability\": \" SEARCHABILITY\", \"variable\": \"40-50%\", \"value\": 2304.0}, {\"Retrievability\": \" BROWSEABILITY\", \"variable\": \"40-50%\", \"value\": 217.0}, {\"Retrievability\": \" CONNECTIVITY\", \"variable\": \"40-50%\", \"value\": 0.0}, {\"Retrievability\": \" TOTAL\", \"variable\": \"50-60%\", \"value\": 25.0}, {\"Retrievability\": \" SEARCHABILITY\", \"variable\": \"50-60%\", \"value\": 18.0}, {\"Retrievability\": \" BROWSEABILITY\", \"variable\": \"50-60%\", \"value\": 13.0}, {\"Retrievability\": \" CONNECTIVITY\", \"variable\": \"50-60%\", \"value\": 0.0}, {\"Retrievability\": \" TOTAL\", \"variable\": \"60-70%\", \"value\": 0.0}, {\"Retrievability\": \" SEARCHABILITY\", \"variable\": \"60-70%\", \"value\": 0.0}, {\"Retrievability\": \" BROWSEABILITY\", \"variable\": \"60-70%\", \"value\": 2.0}, {\"Retrievability\": \" CONNECTIVITY\", \"variable\": \"60-70%\", \"value\": 0.0}, {\"Retrievability\": \" TOTAL\", \"variable\": \"70-80%\", \"value\": 0.0}, {\"Retrievability\": \" SEARCHABILITY\", \"variable\": \"70-80%\", \"value\": 0.0}, {\"Retrievability\": \" BROWSEABILITY\", \"variable\": \"70-80%\", \"value\": 0.0}, {\"Retrievability\": \" CONNECTIVITY\", \"variable\": \"70-80%\", \"value\": 0.0}, {\"Retrievability\": \" TOTAL\", \"variable\": \"80-90%\", \"value\": 0.0}, {\"Retrievability\": \" SEARCHABILITY\", \"variable\": \"80-90%\", \"value\": 0.0}, {\"Retrievability\": \" BROWSEABILITY\", \"variable\": \"80-90%\", \"value\": 0.0}, {\"Retrievability\": \" CONNECTIVITY\", \"variable\": \"80-90%\", \"value\": 0.0}, {\"Retrievability\": \" TOTAL\", \"variable\": \"90-100%\", \"value\": 0.0}, {\"Retrievability\": \" SEARCHABILITY\", \"variable\": \"90-100%\", \"value\": 0.0}, {\"Retrievability\": \" BROWSEABILITY\", \"variable\": \"90-100%\", \"value\": 0.0}, {\"Retrievability\": \" CONNECTIVITY\", \"variable\": \"90-100%\", \"value\": 2644.0}], \"data-2311ffa2d04bddb527345cd3cac7eda8\": [{\"Retrievability\": \" TOTAL\", \"variable\": \"0-10%\", \"value\": 0.0}, {\"Retrievability\": \" SEARCHABILITY\", \"variable\": \"0-10%\", \"value\": 0.0}, {\"Retrievability\": \" BROWSEABILITY\", \"variable\": \"0-10%\", \"value\": 12078.0}, {\"Retrievability\": \" CONNECTIVITY\", \"variable\": \"0-10%\", \"value\": 57776.0}, {\"Retrievability\": \" TOTAL\", \"variable\": \"10-20%\", \"value\": 9392.0}, {\"Retrievability\": \" SEARCHABILITY\", \"variable\": \"10-20%\", \"value\": 9742.0}, {\"Retrievability\": \" BROWSEABILITY\", \"variable\": \"10-20%\", \"value\": 4829.0}, {\"Retrievability\": \" CONNECTIVITY\", \"variable\": \"10-20%\", \"value\": 0.0}, {\"Retrievability\": \" TOTAL\", \"variable\": \"20-30%\", \"value\": 10014.0}, {\"Retrievability\": \" SEARCHABILITY\", \"variable\": \"20-30%\", \"value\": 9743.0}, {\"Retrievability\": \" BROWSEABILITY\", \"variable\": \"20-30%\", \"value\": 14592.0}, {\"Retrievability\": \" CONNECTIVITY\", \"variable\": \"20-30%\", \"value\": 0.0}, {\"Retrievability\": \" TOTAL\", \"variable\": \"30-40%\", \"value\": 29029.0}, {\"Retrievability\": \" SEARCHABILITY\", \"variable\": \"30-40%\", \"value\": 29219.0}, {\"Retrievability\": \" BROWSEABILITY\", \"variable\": \"30-40%\", \"value\": 27417.0}, {\"Retrievability\": \" CONNECTIVITY\", \"variable\": \"30-40%\", \"value\": 0.0}, {\"Retrievability\": \" TOTAL\", \"variable\": \"40-50%\", \"value\": 10992.0}, {\"Retrievability\": \" SEARCHABILITY\", \"variable\": \"40-50%\", \"value\": 10752.0}, {\"Retrievability\": \" BROWSEABILITY\", \"variable\": \"40-50%\", \"value\": 637.0}, {\"Retrievability\": \" CONNECTIVITY\", \"variable\": \"40-50%\", \"value\": 0.0}, {\"Retrievability\": \" TOTAL\", \"variable\": \"50-60%\", \"value\": 133.0}, {\"Retrievability\": \" SEARCHABILITY\", \"variable\": \"50-60%\", \"value\": 104.0}, {\"Retrievability\": \" BROWSEABILITY\", \"variable\": \"50-60%\", \"value\": 7.0}, {\"Retrievability\": \" CONNECTIVITY\", \"variable\": \"50-60%\", \"value\": 0.0}, {\"Retrievability\": \" TOTAL\", \"variable\": \"60-70%\", \"value\": 0.0}, {\"Retrievability\": \" SEARCHABILITY\", \"variable\": \"60-70%\", \"value\": 0.0}, {\"Retrievability\": \" BROWSEABILITY\", \"variable\": \"60-70%\", \"value\": 0.0}, {\"Retrievability\": \" CONNECTIVITY\", \"variable\": \"60-70%\", \"value\": 0.0}, {\"Retrievability\": \" TOTAL\", \"variable\": \"70-80%\", \"value\": 0.0}, {\"Retrievability\": \" SEARCHABILITY\", \"variable\": \"70-80%\", \"value\": 0.0}, {\"Retrievability\": \" BROWSEABILITY\", \"variable\": \"70-80%\", \"value\": 0.0}, {\"Retrievability\": \" CONNECTIVITY\", \"variable\": \"70-80%\", \"value\": 0.0}, {\"Retrievability\": \" TOTAL\", \"variable\": \"80-90%\", \"value\": 0.0}, {\"Retrievability\": \" SEARCHABILITY\", \"variable\": \"80-90%\", \"value\": 0.0}, {\"Retrievability\": \" BROWSEABILITY\", \"variable\": \"80-90%\", \"value\": 0.0}, {\"Retrievability\": \" CONNECTIVITY\", \"variable\": \"80-90%\", \"value\": 0.0}, {\"Retrievability\": \" TOTAL\", \"variable\": \"90-100%\", \"value\": 0.0}, {\"Retrievability\": \" SEARCHABILITY\", \"variable\": \"90-100%\", \"value\": 0.0}, {\"Retrievability\": \" BROWSEABILITY\", \"variable\": \"90-100%\", \"value\": 0.0}, {\"Retrievability\": \" CONNECTIVITY\", \"variable\": \"90-100%\", \"value\": 1784.0}], \"data-5fac5703c8b7308e54844ed68d917058\": [{\"Retrievability\": \" TOTAL\", \"variable\": \"0-10%\", \"value\": 0.0}, {\"Retrievability\": \" SEARCHABILITY\", \"variable\": \"0-10%\", \"value\": 0.0}, {\"Retrievability\": \" BROWSEABILITY\", \"variable\": \"0-10%\", \"value\": 15918.0}, {\"Retrievability\": \" CONNECTIVITY\", \"variable\": \"0-10%\", \"value\": 42690.0}, {\"Retrievability\": \" TOTAL\", \"variable\": \"10-20%\", \"value\": 13801.0}, {\"Retrievability\": \" SEARCHABILITY\", \"variable\": \"10-20%\", \"value\": 13854.0}, {\"Retrievability\": \" BROWSEABILITY\", \"variable\": \"10-20%\", \"value\": 5088.0}, {\"Retrievability\": \" CONNECTIVITY\", \"variable\": \"10-20%\", \"value\": 0.0}, {\"Retrievability\": \" TOTAL\", \"variable\": \"20-30%\", \"value\": 10061.0}, {\"Retrievability\": \" SEARCHABILITY\", \"variable\": \"20-30%\", \"value\": 10034.0}, {\"Retrievability\": \" BROWSEABILITY\", \"variable\": \"20-30%\", \"value\": 7141.0}, {\"Retrievability\": \" CONNECTIVITY\", \"variable\": \"20-30%\", \"value\": 0.0}, {\"Retrievability\": \" TOTAL\", \"variable\": \"30-40%\", \"value\": 12945.0}, {\"Retrievability\": \" SEARCHABILITY\", \"variable\": \"30-40%\", \"value\": 13110.0}, {\"Retrievability\": \" BROWSEABILITY\", \"variable\": \"30-40%\", \"value\": 13487.0}, {\"Retrievability\": \" CONNECTIVITY\", \"variable\": \"30-40%\", \"value\": 0.0}, {\"Retrievability\": \" TOTAL\", \"variable\": \"40-50%\", \"value\": 7008.0}, {\"Retrievability\": \" SEARCHABILITY\", \"variable\": \"40-50%\", \"value\": 6846.0}, {\"Retrievability\": \" BROWSEABILITY\", \"variable\": \"40-50%\", \"value\": 2330.0}, {\"Retrievability\": \" CONNECTIVITY\", \"variable\": \"40-50%\", \"value\": 0.0}, {\"Retrievability\": \" TOTAL\", \"variable\": \"50-60%\", \"value\": 186.0}, {\"Retrievability\": \" SEARCHABILITY\", \"variable\": \"50-60%\", \"value\": 147.0}, {\"Retrievability\": \" BROWSEABILITY\", \"variable\": \"50-60%\", \"value\": 54.0}, {\"Retrievability\": \" CONNECTIVITY\", \"variable\": \"50-60%\", \"value\": 0.0}, {\"Retrievability\": \" TOTAL\", \"variable\": \"60-70%\", \"value\": 17.0}, {\"Retrievability\": \" SEARCHABILITY\", \"variable\": \"60-70%\", \"value\": 27.0}, {\"Retrievability\": \" BROWSEABILITY\", \"variable\": \"60-70%\", \"value\": 0.0}, {\"Retrievability\": \" CONNECTIVITY\", \"variable\": \"60-70%\", \"value\": 0.0}, {\"Retrievability\": \" TOTAL\", \"variable\": \"70-80%\", \"value\": 0.0}, {\"Retrievability\": \" SEARCHABILITY\", \"variable\": \"70-80%\", \"value\": 0.0}, {\"Retrievability\": \" BROWSEABILITY\", \"variable\": \"70-80%\", \"value\": 0.0}, {\"Retrievability\": \" CONNECTIVITY\", \"variable\": \"70-80%\", \"value\": 0.0}, {\"Retrievability\": \" TOTAL\", \"variable\": \"80-90%\", \"value\": 0.0}, {\"Retrievability\": \" SEARCHABILITY\", \"variable\": \"80-90%\", \"value\": 0.0}, {\"Retrievability\": \" BROWSEABILITY\", \"variable\": \"80-90%\", \"value\": 0.0}, {\"Retrievability\": \" CONNECTIVITY\", \"variable\": \"80-90%\", \"value\": 0.0}, {\"Retrievability\": \" TOTAL\", \"variable\": \"90-100%\", \"value\": 0.0}, {\"Retrievability\": \" SEARCHABILITY\", \"variable\": \"90-100%\", \"value\": 0.0}, {\"Retrievability\": \" BROWSEABILITY\", \"variable\": \"90-100%\", \"value\": 0.0}, {\"Retrievability\": \" CONNECTIVITY\", \"variable\": \"90-100%\", \"value\": 1328.0}], \"data-851f31da2b0dc366195b4afcdbafbe8d\": [{\"Retrievability\": \" TOTAL\", \"variable\": \"0-10%\", \"value\": 0.0}, {\"Retrievability\": \" SEARCHABILITY\", \"variable\": \"0-10%\", \"value\": 0.0}, {\"Retrievability\": \" BROWSEABILITY\", \"variable\": \"0-10%\", \"value\": 2279.0}, {\"Retrievability\": \" CONNECTIVITY\", \"variable\": \"0-10%\", \"value\": 13794.0}, {\"Retrievability\": \" TOTAL\", \"variable\": \"10-20%\", \"value\": 1960.0}, {\"Retrievability\": \" SEARCHABILITY\", \"variable\": \"10-20%\", \"value\": 1961.0}, {\"Retrievability\": \" BROWSEABILITY\", \"variable\": \"10-20%\", \"value\": 2817.0}, {\"Retrievability\": \" CONNECTIVITY\", \"variable\": \"10-20%\", \"value\": 0.0}, {\"Retrievability\": \" TOTAL\", \"variable\": \"20-30%\", \"value\": 4964.0}, {\"Retrievability\": \" SEARCHABILITY\", \"variable\": \"20-30%\", \"value\": 4975.0}, {\"Retrievability\": \" BROWSEABILITY\", \"variable\": \"20-30%\", \"value\": 3458.0}, {\"Retrievability\": \" CONNECTIVITY\", \"variable\": \"20-30%\", \"value\": 0.0}, {\"Retrievability\": \" TOTAL\", \"variable\": \"30-40%\", \"value\": 6154.0}, {\"Retrievability\": \" SEARCHABILITY\", \"variable\": \"30-40%\", \"value\": 6198.0}, {\"Retrievability\": \" BROWSEABILITY\", \"variable\": \"30-40%\", \"value\": 5403.0}, {\"Retrievability\": \" CONNECTIVITY\", \"variable\": \"30-40%\", \"value\": 0.0}, {\"Retrievability\": \" TOTAL\", \"variable\": \"40-50%\", \"value\": 983.0}, {\"Retrievability\": \" SEARCHABILITY\", \"variable\": \"40-50%\", \"value\": 930.0}, {\"Retrievability\": \" BROWSEABILITY\", \"variable\": \"40-50%\", \"value\": 105.0}, {\"Retrievability\": \" CONNECTIVITY\", \"variable\": \"40-50%\", \"value\": 0.0}, {\"Retrievability\": \" TOTAL\", \"variable\": \"50-60%\", \"value\": 4.0}, {\"Retrievability\": \" SEARCHABILITY\", \"variable\": \"50-60%\", \"value\": 1.0}, {\"Retrievability\": \" BROWSEABILITY\", \"variable\": \"50-60%\", \"value\": 3.0}, {\"Retrievability\": \" CONNECTIVITY\", \"variable\": \"50-60%\", \"value\": 0.0}, {\"Retrievability\": \" TOTAL\", \"variable\": \"60-70%\", \"value\": 0.0}, {\"Retrievability\": \" SEARCHABILITY\", \"variable\": \"60-70%\", \"value\": 0.0}, {\"Retrievability\": \" BROWSEABILITY\", \"variable\": \"60-70%\", \"value\": 0.0}, {\"Retrievability\": \" CONNECTIVITY\", \"variable\": \"60-70%\", \"value\": 0.0}, {\"Retrievability\": \" TOTAL\", \"variable\": \"70-80%\", \"value\": 0.0}, {\"Retrievability\": \" SEARCHABILITY\", \"variable\": \"70-80%\", \"value\": 0.0}, {\"Retrievability\": \" BROWSEABILITY\", \"variable\": \"70-80%\", \"value\": 0.0}, {\"Retrievability\": \" CONNECTIVITY\", \"variable\": \"70-80%\", \"value\": 0.0}, {\"Retrievability\": \" TOTAL\", \"variable\": \"80-90%\", \"value\": 0.0}, {\"Retrievability\": \" SEARCHABILITY\", \"variable\": \"80-90%\", \"value\": 0.0}, {\"Retrievability\": \" BROWSEABILITY\", \"variable\": \"80-90%\", \"value\": 0.0}, {\"Retrievability\": \" CONNECTIVITY\", \"variable\": \"80-90%\", \"value\": 0.0}, {\"Retrievability\": \" TOTAL\", \"variable\": \"90-100%\", \"value\": 0.0}, {\"Retrievability\": \" SEARCHABILITY\", \"variable\": \"90-100%\", \"value\": 0.0}, {\"Retrievability\": \" BROWSEABILITY\", \"variable\": \"90-100%\", \"value\": 0.0}, {\"Retrievability\": \" CONNECTIVITY\", \"variable\": \"90-100%\", \"value\": 271.0}], \"data-6c3d277cc998bdd6bcf16dc6f2b22e9c\": [{\"Retrievability\": \" TOTAL\", \"variable\": \"0-10%\", \"value\": 0.0}, {\"Retrievability\": \" SEARCHABILITY\", \"variable\": \"0-10%\", \"value\": 0.0}, {\"Retrievability\": \" BROWSEABILITY\", \"variable\": \"0-10%\", \"value\": 2403.0}, {\"Retrievability\": \" CONNECTIVITY\", \"variable\": \"0-10%\", \"value\": 9733.0}, {\"Retrievability\": \" TOTAL\", \"variable\": \"10-20%\", \"value\": 1860.0}, {\"Retrievability\": \" SEARCHABILITY\", \"variable\": \"10-20%\", \"value\": 1876.0}, {\"Retrievability\": \" BROWSEABILITY\", \"variable\": \"10-20%\", \"value\": 1979.0}, {\"Retrievability\": \" CONNECTIVITY\", \"variable\": \"10-20%\", \"value\": 0.0}, {\"Retrievability\": \" TOTAL\", \"variable\": \"20-30%\", \"value\": 3155.0}, {\"Retrievability\": \" SEARCHABILITY\", \"variable\": \"20-30%\", \"value\": 3181.0}, {\"Retrievability\": \" BROWSEABILITY\", \"variable\": \"20-30%\", \"value\": 1843.0}, {\"Retrievability\": \" CONNECTIVITY\", \"variable\": \"20-30%\", \"value\": 0.0}, {\"Retrievability\": \" TOTAL\", \"variable\": \"30-40%\", \"value\": 4494.0}, {\"Retrievability\": \" SEARCHABILITY\", \"variable\": \"30-40%\", \"value\": 4621.0}, {\"Retrievability\": \" BROWSEABILITY\", \"variable\": \"30-40%\", \"value\": 4269.0}, {\"Retrievability\": \" CONNECTIVITY\", \"variable\": \"30-40%\", \"value\": 0.0}, {\"Retrievability\": \" TOTAL\", \"variable\": \"40-50%\", \"value\": 1136.0}, {\"Retrievability\": \" SEARCHABILITY\", \"variable\": \"40-50%\", \"value\": 972.0}, {\"Retrievability\": \" BROWSEABILITY\", \"variable\": \"40-50%\", \"value\": 160.0}, {\"Retrievability\": \" CONNECTIVITY\", \"variable\": \"40-50%\", \"value\": 0.0}, {\"Retrievability\": \" TOTAL\", \"variable\": \"50-60%\", \"value\": 14.0}, {\"Retrievability\": \" SEARCHABILITY\", \"variable\": \"50-60%\", \"value\": 9.0}, {\"Retrievability\": \" BROWSEABILITY\", \"variable\": \"50-60%\", \"value\": 5.0}, {\"Retrievability\": \" CONNECTIVITY\", \"variable\": \"50-60%\", \"value\": 0.0}, {\"Retrievability\": \" TOTAL\", \"variable\": \"60-70%\", \"value\": 0.0}, {\"Retrievability\": \" SEARCHABILITY\", \"variable\": \"60-70%\", \"value\": 0.0}, {\"Retrievability\": \" BROWSEABILITY\", \"variable\": \"60-70%\", \"value\": 0.0}, {\"Retrievability\": \" CONNECTIVITY\", \"variable\": \"60-70%\", \"value\": 0.0}, {\"Retrievability\": \" TOTAL\", \"variable\": \"70-80%\", \"value\": 0.0}, {\"Retrievability\": \" SEARCHABILITY\", \"variable\": \"70-80%\", \"value\": 0.0}, {\"Retrievability\": \" BROWSEABILITY\", \"variable\": \"70-80%\", \"value\": 0.0}, {\"Retrievability\": \" CONNECTIVITY\", \"variable\": \"70-80%\", \"value\": 0.0}, {\"Retrievability\": \" TOTAL\", \"variable\": \"80-90%\", \"value\": 0.0}, {\"Retrievability\": \" SEARCHABILITY\", \"variable\": \"80-90%\", \"value\": 0.0}, {\"Retrievability\": \" BROWSEABILITY\", \"variable\": \"80-90%\", \"value\": 0.0}, {\"Retrievability\": \" CONNECTIVITY\", \"variable\": \"80-90%\", \"value\": 0.0}, {\"Retrievability\": \" TOTAL\", \"variable\": \"90-100%\", \"value\": 0.0}, {\"Retrievability\": \" SEARCHABILITY\", \"variable\": \"90-100%\", \"value\": 0.0}, {\"Retrievability\": \" BROWSEABILITY\", \"variable\": \"90-100%\", \"value\": 0.0}, {\"Retrievability\": \" CONNECTIVITY\", \"variable\": \"90-100%\", \"value\": 926.0}], \"data-1432db31c3a78da5a2dd97aaee4871f1\": [{\"Retrievability\": \" TOTAL\", \"variable\": \"0-10%\", \"value\": 0.0}, {\"Retrievability\": \" SEARCHABILITY\", \"variable\": \"0-10%\", \"value\": 0.0}, {\"Retrievability\": \" BROWSEABILITY\", \"variable\": \"0-10%\", \"value\": 5347.0}, {\"Retrievability\": \" CONNECTIVITY\", \"variable\": \"0-10%\", \"value\": 6329.0}, {\"Retrievability\": \" TOTAL\", \"variable\": \"10-20%\", \"value\": 922.0}, {\"Retrievability\": \" SEARCHABILITY\", \"variable\": \"10-20%\", \"value\": 923.0}, {\"Retrievability\": \" BROWSEABILITY\", \"variable\": \"10-20%\", \"value\": 3379.0}, {\"Retrievability\": \" CONNECTIVITY\", \"variable\": \"10-20%\", \"value\": 0.0}, {\"Retrievability\": \" TOTAL\", \"variable\": \"20-30%\", \"value\": 7562.0}, {\"Retrievability\": \" SEARCHABILITY\", \"variable\": \"20-30%\", \"value\": 7594.0}, {\"Retrievability\": \" BROWSEABILITY\", \"variable\": \"20-30%\", \"value\": 931.0}, {\"Retrievability\": \" CONNECTIVITY\", \"variable\": \"20-30%\", \"value\": 0.0}, {\"Retrievability\": \" TOTAL\", \"variable\": \"30-40%\", \"value\": 1175.0}, {\"Retrievability\": \" SEARCHABILITY\", \"variable\": \"30-40%\", \"value\": 1142.0}, {\"Retrievability\": \" BROWSEABILITY\", \"variable\": \"30-40%\", \"value\": 4.0}, {\"Retrievability\": \" CONNECTIVITY\", \"variable\": \"30-40%\", \"value\": 0.0}, {\"Retrievability\": \" TOTAL\", \"variable\": \"40-50%\", \"value\": 2.0}, {\"Retrievability\": \" SEARCHABILITY\", \"variable\": \"40-50%\", \"value\": 2.0}, {\"Retrievability\": \" BROWSEABILITY\", \"variable\": \"40-50%\", \"value\": 0.0}, {\"Retrievability\": \" CONNECTIVITY\", \"variable\": \"40-50%\", \"value\": 0.0}, {\"Retrievability\": \" TOTAL\", \"variable\": \"50-60%\", \"value\": 0.0}, {\"Retrievability\": \" SEARCHABILITY\", \"variable\": \"50-60%\", \"value\": 0.0}, {\"Retrievability\": \" BROWSEABILITY\", \"variable\": \"50-60%\", \"value\": 0.0}, {\"Retrievability\": \" CONNECTIVITY\", \"variable\": \"50-60%\", \"value\": 0.0}, {\"Retrievability\": \" TOTAL\", \"variable\": \"60-70%\", \"value\": 0.0}, {\"Retrievability\": \" SEARCHABILITY\", \"variable\": \"60-70%\", \"value\": 0.0}, {\"Retrievability\": \" BROWSEABILITY\", \"variable\": \"60-70%\", \"value\": 0.0}, {\"Retrievability\": \" CONNECTIVITY\", \"variable\": \"60-70%\", \"value\": 0.0}, {\"Retrievability\": \" TOTAL\", \"variable\": \"70-80%\", \"value\": 0.0}, {\"Retrievability\": \" SEARCHABILITY\", \"variable\": \"70-80%\", \"value\": 0.0}, {\"Retrievability\": \" BROWSEABILITY\", \"variable\": \"70-80%\", \"value\": 0.0}, {\"Retrievability\": \" CONNECTIVITY\", \"variable\": \"70-80%\", \"value\": 0.0}, {\"Retrievability\": \" TOTAL\", \"variable\": \"80-90%\", \"value\": 0.0}, {\"Retrievability\": \" SEARCHABILITY\", \"variable\": \"80-90%\", \"value\": 0.0}, {\"Retrievability\": \" BROWSEABILITY\", \"variable\": \"80-90%\", \"value\": 0.0}, {\"Retrievability\": \" CONNECTIVITY\", \"variable\": \"80-90%\", \"value\": 0.0}, {\"Retrievability\": \" TOTAL\", \"variable\": \"90-100%\", \"value\": 0.0}, {\"Retrievability\": \" SEARCHABILITY\", \"variable\": \"90-100%\", \"value\": 0.0}, {\"Retrievability\": \" BROWSEABILITY\", \"variable\": \"90-100%\", \"value\": 0.0}, {\"Retrievability\": \" CONNECTIVITY\", \"variable\": \"90-100%\", \"value\": 3332.0}], \"data-5b8c1f34a387f710aa4a7c41e454533f\": [{\"Retrievability\": \" TOTAL\", \"variable\": \"0-10%\", \"value\": 0.0}, {\"Retrievability\": \" SEARCHABILITY\", \"variable\": \"0-10%\", \"value\": 0.0}, {\"Retrievability\": \" BROWSEABILITY\", \"variable\": \"0-10%\", \"value\": 13958.0}, {\"Retrievability\": \" CONNECTIVITY\", \"variable\": \"0-10%\", \"value\": 29657.0}, {\"Retrievability\": \" TOTAL\", \"variable\": \"10-20%\", \"value\": 12732.0}, {\"Retrievability\": \" SEARCHABILITY\", \"variable\": \"10-20%\", \"value\": 12735.0}, {\"Retrievability\": \" BROWSEABILITY\", \"variable\": \"10-20%\", \"value\": 4303.0}, {\"Retrievability\": \" CONNECTIVITY\", \"variable\": \"10-20%\", \"value\": 0.0}, {\"Retrievability\": \" TOTAL\", \"variable\": \"20-30%\", \"value\": 6073.0}, {\"Retrievability\": \" SEARCHABILITY\", \"variable\": \"20-30%\", \"value\": 6476.0}, {\"Retrievability\": \" BROWSEABILITY\", \"variable\": \"20-30%\", \"value\": 5045.0}, {\"Retrievability\": \" CONNECTIVITY\", \"variable\": \"20-30%\", \"value\": 0.0}, {\"Retrievability\": \" TOTAL\", \"variable\": \"30-40%\", \"value\": 8384.0}, {\"Retrievability\": \" SEARCHABILITY\", \"variable\": \"30-40%\", \"value\": 8111.0}, {\"Retrievability\": \" BROWSEABILITY\", \"variable\": \"30-40%\", \"value\": 8354.0}, {\"Retrievability\": \" CONNECTIVITY\", \"variable\": \"30-40%\", \"value\": 0.0}, {\"Retrievability\": \" TOTAL\", \"variable\": \"40-50%\", \"value\": 5064.0}, {\"Retrievability\": \" SEARCHABILITY\", \"variable\": \"40-50%\", \"value\": 4932.0}, {\"Retrievability\": \" BROWSEABILITY\", \"variable\": \"40-50%\", \"value\": 592.0}, {\"Retrievability\": \" CONNECTIVITY\", \"variable\": \"40-50%\", \"value\": 0.0}, {\"Retrievability\": \" TOTAL\", \"variable\": \"50-60%\", \"value\": 10.0}, {\"Retrievability\": \" SEARCHABILITY\", \"variable\": \"50-60%\", \"value\": 9.0}, {\"Retrievability\": \" BROWSEABILITY\", \"variable\": \"50-60%\", \"value\": 10.0}, {\"Retrievability\": \" CONNECTIVITY\", \"variable\": \"50-60%\", \"value\": 0.0}, {\"Retrievability\": \" TOTAL\", \"variable\": \"60-70%\", \"value\": 0.0}, {\"Retrievability\": \" SEARCHABILITY\", \"variable\": \"60-70%\", \"value\": 0.0}, {\"Retrievability\": \" BROWSEABILITY\", \"variable\": \"60-70%\", \"value\": 1.0}, {\"Retrievability\": \" CONNECTIVITY\", \"variable\": \"60-70%\", \"value\": 0.0}, {\"Retrievability\": \" TOTAL\", \"variable\": \"70-80%\", \"value\": 0.0}, {\"Retrievability\": \" SEARCHABILITY\", \"variable\": \"70-80%\", \"value\": 0.0}, {\"Retrievability\": \" BROWSEABILITY\", \"variable\": \"70-80%\", \"value\": 0.0}, {\"Retrievability\": \" CONNECTIVITY\", \"variable\": \"70-80%\", \"value\": 0.0}, {\"Retrievability\": \" TOTAL\", \"variable\": \"80-90%\", \"value\": 0.0}, {\"Retrievability\": \" SEARCHABILITY\", \"variable\": \"80-90%\", \"value\": 0.0}, {\"Retrievability\": \" BROWSEABILITY\", \"variable\": \"80-90%\", \"value\": 0.0}, {\"Retrievability\": \" CONNECTIVITY\", \"variable\": \"80-90%\", \"value\": 0.0}, {\"Retrievability\": \" TOTAL\", \"variable\": \"90-100%\", \"value\": 0.0}, {\"Retrievability\": \" SEARCHABILITY\", \"variable\": \"90-100%\", \"value\": 0.0}, {\"Retrievability\": \" BROWSEABILITY\", \"variable\": \"90-100%\", \"value\": 0.0}, {\"Retrievability\": \" CONNECTIVITY\", \"variable\": \"90-100%\", \"value\": 2606.0}], \"data-f5d03e58a9cb2cdff052702ddd1c92e6\": [{\"Retrievability\": \" TOTAL\", \"variable\": \"0-10%\", \"value\": 0.0}, {\"Retrievability\": \" SEARCHABILITY\", \"variable\": \"0-10%\", \"value\": 0.0}, {\"Retrievability\": \" BROWSEABILITY\", \"variable\": \"0-10%\", \"value\": 4678.0}, {\"Retrievability\": \" CONNECTIVITY\", \"variable\": \"0-10%\", \"value\": 15023.0}, {\"Retrievability\": \" TOTAL\", \"variable\": \"10-20%\", \"value\": 3468.0}, {\"Retrievability\": \" SEARCHABILITY\", \"variable\": \"10-20%\", \"value\": 3650.0}, {\"Retrievability\": \" BROWSEABILITY\", \"variable\": \"10-20%\", \"value\": 776.0}, {\"Retrievability\": \" CONNECTIVITY\", \"variable\": \"10-20%\", \"value\": 0.0}, {\"Retrievability\": \" TOTAL\", \"variable\": \"20-30%\", \"value\": 2356.0}, {\"Retrievability\": \" SEARCHABILITY\", \"variable\": \"20-30%\", \"value\": 2177.0}, {\"Retrievability\": \" BROWSEABILITY\", \"variable\": \"20-30%\", \"value\": 2337.0}, {\"Retrievability\": \" CONNECTIVITY\", \"variable\": \"20-30%\", \"value\": 0.0}, {\"Retrievability\": \" TOTAL\", \"variable\": \"30-40%\", \"value\": 5313.0}, {\"Retrievability\": \" SEARCHABILITY\", \"variable\": \"30-40%\", \"value\": 5468.0}, {\"Retrievability\": \" BROWSEABILITY\", \"variable\": \"30-40%\", \"value\": 7627.0}, {\"Retrievability\": \" CONNECTIVITY\", \"variable\": \"30-40%\", \"value\": 0.0}, {\"Retrievability\": \" TOTAL\", \"variable\": \"40-50%\", \"value\": 4869.0}, {\"Retrievability\": \" SEARCHABILITY\", \"variable\": \"40-50%\", \"value\": 4792.0}, {\"Retrievability\": \" BROWSEABILITY\", \"variable\": \"40-50%\", \"value\": 730.0}, {\"Retrievability\": \" CONNECTIVITY\", \"variable\": \"40-50%\", \"value\": 0.0}, {\"Retrievability\": \" TOTAL\", \"variable\": \"50-60%\", \"value\": 160.0}, {\"Retrievability\": \" SEARCHABILITY\", \"variable\": \"50-60%\", \"value\": 78.0}, {\"Retrievability\": \" BROWSEABILITY\", \"variable\": \"50-60%\", \"value\": 17.0}, {\"Retrievability\": \" CONNECTIVITY\", \"variable\": \"50-60%\", \"value\": 0.0}, {\"Retrievability\": \" TOTAL\", \"variable\": \"60-70%\", \"value\": 0.0}, {\"Retrievability\": \" SEARCHABILITY\", \"variable\": \"60-70%\", \"value\": 1.0}, {\"Retrievability\": \" BROWSEABILITY\", \"variable\": \"60-70%\", \"value\": 1.0}, {\"Retrievability\": \" CONNECTIVITY\", \"variable\": \"60-70%\", \"value\": 0.0}, {\"Retrievability\": \" TOTAL\", \"variable\": \"70-80%\", \"value\": 0.0}, {\"Retrievability\": \" SEARCHABILITY\", \"variable\": \"70-80%\", \"value\": 0.0}, {\"Retrievability\": \" BROWSEABILITY\", \"variable\": \"70-80%\", \"value\": 0.0}, {\"Retrievability\": \" CONNECTIVITY\", \"variable\": \"70-80%\", \"value\": 0.0}, {\"Retrievability\": \" TOTAL\", \"variable\": \"80-90%\", \"value\": 0.0}, {\"Retrievability\": \" SEARCHABILITY\", \"variable\": \"80-90%\", \"value\": 0.0}, {\"Retrievability\": \" BROWSEABILITY\", \"variable\": \"80-90%\", \"value\": 0.0}, {\"Retrievability\": \" CONNECTIVITY\", \"variable\": \"80-90%\", \"value\": 0.0}, {\"Retrievability\": \" TOTAL\", \"variable\": \"90-100%\", \"value\": 0.0}, {\"Retrievability\": \" SEARCHABILITY\", \"variable\": \"90-100%\", \"value\": 0.0}, {\"Retrievability\": \" BROWSEABILITY\", \"variable\": \"90-100%\", \"value\": 0.0}, {\"Retrievability\": \" CONNECTIVITY\", \"variable\": \"90-100%\", \"value\": 1143.0}], \"data-e5e82e6a3613289e031ae454ac970a8d\": [{\"Retrievability\": \" TOTAL\", \"variable\": \"0-10%\", \"value\": 0.0}, {\"Retrievability\": \" SEARCHABILITY\", \"variable\": \"0-10%\", \"value\": 0.0}, {\"Retrievability\": \" BROWSEABILITY\", \"variable\": \"0-10%\", \"value\": 108.0}, {\"Retrievability\": \" CONNECTIVITY\", \"variable\": \"0-10%\", \"value\": 756.0}, {\"Retrievability\": \" TOTAL\", \"variable\": \"10-20%\", \"value\": 73.0}, {\"Retrievability\": \" SEARCHABILITY\", \"variable\": \"10-20%\", \"value\": 73.0}, {\"Retrievability\": \" BROWSEABILITY\", \"variable\": \"10-20%\", \"value\": 534.0}, {\"Retrievability\": \" CONNECTIVITY\", \"variable\": \"10-20%\", \"value\": 0.0}, {\"Retrievability\": \" TOTAL\", \"variable\": \"20-30%\", \"value\": 566.0}, {\"Retrievability\": \" SEARCHABILITY\", \"variable\": \"20-30%\", \"value\": 567.0}, {\"Retrievability\": \" BROWSEABILITY\", \"variable\": \"20-30%\", \"value\": 91.0}, {\"Retrievability\": \" CONNECTIVITY\", \"variable\": \"20-30%\", \"value\": 0.0}, {\"Retrievability\": \" TOTAL\", \"variable\": \"30-40%\", \"value\": 166.0}, {\"Retrievability\": \" SEARCHABILITY\", \"variable\": \"30-40%\", \"value\": 165.0}, {\"Retrievability\": \" BROWSEABILITY\", \"variable\": \"30-40%\", \"value\": 76.0}, {\"Retrievability\": \" CONNECTIVITY\", \"variable\": \"30-40%\", \"value\": 0.0}, {\"Retrievability\": \" TOTAL\", \"variable\": \"40-50%\", \"value\": 8.0}, {\"Retrievability\": \" SEARCHABILITY\", \"variable\": \"40-50%\", \"value\": 8.0}, {\"Retrievability\": \" BROWSEABILITY\", \"variable\": \"40-50%\", \"value\": 4.0}, {\"Retrievability\": \" CONNECTIVITY\", \"variable\": \"40-50%\", \"value\": 0.0}, {\"Retrievability\": \" TOTAL\", \"variable\": \"50-60%\", \"value\": 0.0}, {\"Retrievability\": \" SEARCHABILITY\", \"variable\": \"50-60%\", \"value\": 0.0}, {\"Retrievability\": \" BROWSEABILITY\", \"variable\": \"50-60%\", \"value\": 0.0}, {\"Retrievability\": \" CONNECTIVITY\", \"variable\": \"50-60%\", \"value\": 0.0}, {\"Retrievability\": \" TOTAL\", \"variable\": \"60-70%\", \"value\": 0.0}, {\"Retrievability\": \" SEARCHABILITY\", \"variable\": \"60-70%\", \"value\": 0.0}, {\"Retrievability\": \" BROWSEABILITY\", \"variable\": \"60-70%\", \"value\": 0.0}, {\"Retrievability\": \" CONNECTIVITY\", \"variable\": \"60-70%\", \"value\": 0.0}, {\"Retrievability\": \" TOTAL\", \"variable\": \"70-80%\", \"value\": 0.0}, {\"Retrievability\": \" SEARCHABILITY\", \"variable\": \"70-80%\", \"value\": 0.0}, {\"Retrievability\": \" BROWSEABILITY\", \"variable\": \"70-80%\", \"value\": 0.0}, {\"Retrievability\": \" CONNECTIVITY\", \"variable\": \"70-80%\", \"value\": 0.0}, {\"Retrievability\": \" TOTAL\", \"variable\": \"80-90%\", \"value\": 0.0}, {\"Retrievability\": \" SEARCHABILITY\", \"variable\": \"80-90%\", \"value\": 0.0}, {\"Retrievability\": \" BROWSEABILITY\", \"variable\": \"80-90%\", \"value\": 0.0}, {\"Retrievability\": \" CONNECTIVITY\", \"variable\": \"80-90%\", \"value\": 0.0}, {\"Retrievability\": \" TOTAL\", \"variable\": \"90-100%\", \"value\": 0.0}, {\"Retrievability\": \" SEARCHABILITY\", \"variable\": \"90-100%\", \"value\": 0.0}, {\"Retrievability\": \" BROWSEABILITY\", \"variable\": \"90-100%\", \"value\": 0.0}, {\"Retrievability\": \" CONNECTIVITY\", \"variable\": \"90-100%\", \"value\": 57.0}], \"data-ed21bbc33dd327e2f62f6b0530735736\": [{\"Retrievability\": \" TOTAL\", \"variable\": \"0-10%\", \"value\": 0.0}, {\"Retrievability\": \" SEARCHABILITY\", \"variable\": \"0-10%\", \"value\": 0.0}, {\"Retrievability\": \" BROWSEABILITY\", \"variable\": \"0-10%\", \"value\": 271.0}, {\"Retrievability\": \" CONNECTIVITY\", \"variable\": \"0-10%\", \"value\": 736.0}, {\"Retrievability\": \" TOTAL\", \"variable\": \"10-20%\", \"value\": 234.0}, {\"Retrievability\": \" SEARCHABILITY\", \"variable\": \"10-20%\", \"value\": 234.0}, {\"Retrievability\": \" BROWSEABILITY\", \"variable\": \"10-20%\", \"value\": 215.0}, {\"Retrievability\": \" CONNECTIVITY\", \"variable\": \"10-20%\", \"value\": 0.0}, {\"Retrievability\": \" TOTAL\", \"variable\": \"20-30%\", \"value\": 275.0}, {\"Retrievability\": \" SEARCHABILITY\", \"variable\": \"20-30%\", \"value\": 275.0}, {\"Retrievability\": \" BROWSEABILITY\", \"variable\": \"20-30%\", \"value\": 132.0}, {\"Retrievability\": \" CONNECTIVITY\", \"variable\": \"20-30%\", \"value\": 0.0}, {\"Retrievability\": \" TOTAL\", \"variable\": \"30-40%\", \"value\": 173.0}, {\"Retrievability\": \" SEARCHABILITY\", \"variable\": \"30-40%\", \"value\": 173.0}, {\"Retrievability\": \" BROWSEABILITY\", \"variable\": \"30-40%\", \"value\": 116.0}, {\"Retrievability\": \" CONNECTIVITY\", \"variable\": \"30-40%\", \"value\": 0.0}, {\"Retrievability\": \" TOTAL\", \"variable\": \"40-50%\", \"value\": 58.0}, {\"Retrievability\": \" SEARCHABILITY\", \"variable\": \"40-50%\", \"value\": 58.0}, {\"Retrievability\": \" BROWSEABILITY\", \"variable\": \"40-50%\", \"value\": 6.0}, {\"Retrievability\": \" CONNECTIVITY\", \"variable\": \"40-50%\", \"value\": 0.0}, {\"Retrievability\": \" TOTAL\", \"variable\": \"50-60%\", \"value\": 0.0}, {\"Retrievability\": \" SEARCHABILITY\", \"variable\": \"50-60%\", \"value\": 0.0}, {\"Retrievability\": \" BROWSEABILITY\", \"variable\": \"50-60%\", \"value\": 0.0}, {\"Retrievability\": \" CONNECTIVITY\", \"variable\": \"50-60%\", \"value\": 0.0}, {\"Retrievability\": \" TOTAL\", \"variable\": \"60-70%\", \"value\": 0.0}, {\"Retrievability\": \" SEARCHABILITY\", \"variable\": \"60-70%\", \"value\": 0.0}, {\"Retrievability\": \" BROWSEABILITY\", \"variable\": \"60-70%\", \"value\": 0.0}, {\"Retrievability\": \" CONNECTIVITY\", \"variable\": \"60-70%\", \"value\": 0.0}, {\"Retrievability\": \" TOTAL\", \"variable\": \"70-80%\", \"value\": 0.0}, {\"Retrievability\": \" SEARCHABILITY\", \"variable\": \"70-80%\", \"value\": 0.0}, {\"Retrievability\": \" BROWSEABILITY\", \"variable\": \"70-80%\", \"value\": 0.0}, {\"Retrievability\": \" CONNECTIVITY\", \"variable\": \"70-80%\", \"value\": 0.0}, {\"Retrievability\": \" TOTAL\", \"variable\": \"80-90%\", \"value\": 0.0}, {\"Retrievability\": \" SEARCHABILITY\", \"variable\": \"80-90%\", \"value\": 0.0}, {\"Retrievability\": \" BROWSEABILITY\", \"variable\": \"80-90%\", \"value\": 0.0}, {\"Retrievability\": \" CONNECTIVITY\", \"variable\": \"80-90%\", \"value\": 0.0}, {\"Retrievability\": \" TOTAL\", \"variable\": \"90-100%\", \"value\": 0.0}, {\"Retrievability\": \" SEARCHABILITY\", \"variable\": \"90-100%\", \"value\": 0.0}, {\"Retrievability\": \" BROWSEABILITY\", \"variable\": \"90-100%\", \"value\": 0.0}, {\"Retrievability\": \" CONNECTIVITY\", \"variable\": \"90-100%\", \"value\": 4.0}]}}, {\"mode\": \"vega-lite\"});\n",
       "</script>"
      ],
      "text/plain": [
       "alt.VConcatChart(...)"
      ]
     },
     "execution_count": 6,
     "metadata": {},
     "output_type": "execute_result"
    }
   ],
   "source": [
    "import altair as alt\n",
    "\n",
    "ranges = [0,0.1,0.2,0.3,0.4,0.5,0.6,0.7,0.8,0.9,1]\n",
    "count =0\n",
    "\n",
    "dept_col_counts = None\n",
    "depts = tidied_df[' collectionCode'].unique()\n",
    "charts = []\n",
    "hcharts = []\n",
    "for dept_code in depts:\n",
    "  dept_rows_df = pd.DataFrame()\n",
    "  dept_stats_df = tidied_df.loc[tidied_df[' collectionCode'] == dept_code]\n",
    "  if(len(dept_stats_df) < 10):\n",
    "    # Ignore EXH and other errartic departments\n",
    "    continue\n",
    "  # Now need to loop over each completeness coll in turn\n",
    "  for column in dept_stats_df.columns[1:]:\n",
    "    # Group into counts of percentages 0-10, 10-20, ... 90-100\n",
    "    # dept_col_counts = dept_stats_df[column].value_counts(bins=10, sort=False)\n",
    "    \n",
    "    dept_col_counts = dept_stats_df[column].groupby(pd.cut(dept_stats_df[column], ranges, labels=[\"0-10%\",\"10-20%\",\"20-30%\",\"30-40%\",\"40-50%\",\"50-60%\",\"60-70%\",\"70-80%\",\"80-90%\",\"90-100%\"], include_lowest=True)).count()\n",
    "    dept_col_counts.name = column\n",
    "    dept_rows_df = dept_rows_df.append(dept_col_counts, ignore_index=False)\n",
    "    \n",
    "  dept_rows_df = dept_rows_df.rename_axis('Retrievability').rename_axis('Percentages', axis='columns')\n",
    "    # TO handle converting from CategoricalIndex - may change https://github.com/pandas-dev/pandas/issues/19136\n",
    "  dept_rows_df.columns = dept_rows_df.columns.tolist()\n",
    " #   print(dept_rows_df)\n",
    "  dept_rows_df = dept_rows_df.reset_index()\n",
    "\n",
    "  dept_rows_melt_df = dept_rows_df.melt(id_vars=['Retrievability'], var_name='Percentage', value_name='Objects' )\n",
    "  \n",
    "  chart = alt.Chart(dept_rows_melt_df).mark_bar().encode(\n",
    "       x=alt.X('Objects:Q', axis=alt.Axis(title='Objects')),\n",
    "       y='Retrievability:O',\n",
    "        color='Percentage:O',\n",
    "       tooltip=['Percentage', 'Objects']\n",
    "    ).properties(width=220, title=\"%s (%d)\" % (deptNames[dept_code], len(dept_stats_df)))\n",
    "  charts.append(chart)\n",
    "  if count > 0:\n",
    "      hcharts.append(alt.hconcat(*charts))\n",
    "      charts = []\n",
    "      count = 0\n",
    "  else:\n",
    "      count += 1\n",
    "        \n",
    "hcharts.append(alt.hconcat(*charts))\n",
    "\n",
    "alt.vconcat(*hcharts).configure_concat(spacing=20)"
   ]
  },
  {
   "cell_type": "code",
   "execution_count": null,
   "metadata": {},
   "outputs": [],
   "source": []
  },
  {
   "cell_type": "code",
   "execution_count": 6,
   "metadata": {},
   "outputs": [
    {
     "data": {
      "text/html": [
       "<div>\n",
       "<style scoped>\n",
       "    .dataframe tbody tr th:only-of-type {\n",
       "        vertical-align: middle;\n",
       "    }\n",
       "\n",
       "    .dataframe tbody tr th {\n",
       "        vertical-align: top;\n",
       "    }\n",
       "\n",
       "    .dataframe thead th {\n",
       "        text-align: right;\n",
       "    }\n",
       "</style>\n",
       "<table border=\"1\" class=\"dataframe\">\n",
       "  <thead>\n",
       "    <tr style=\"text-align: right;\">\n",
       "      <th></th>\n",
       "      <th>accessionYear</th>\n",
       "      <th>TOTAL</th>\n",
       "      <th>SEARCHABILITY</th>\n",
       "      <th>BROWSEABILITY</th>\n",
       "      <th>CONNECTIVITY</th>\n",
       "    </tr>\n",
       "  </thead>\n",
       "  <tbody>\n",
       "    <tr>\n",
       "      <th>0</th>\n",
       "      <td>NaN</td>\n",
       "      <td>0.179487</td>\n",
       "      <td>0.184211</td>\n",
       "      <td>0.043478</td>\n",
       "      <td>0.0</td>\n",
       "    </tr>\n",
       "    <tr>\n",
       "      <th>1</th>\n",
       "      <td>NaN</td>\n",
       "      <td>0.179487</td>\n",
       "      <td>0.184211</td>\n",
       "      <td>0.043478</td>\n",
       "      <td>0.0</td>\n",
       "    </tr>\n",
       "    <tr>\n",
       "      <th>2</th>\n",
       "      <td>NaN</td>\n",
       "      <td>0.179487</td>\n",
       "      <td>0.184211</td>\n",
       "      <td>0.043478</td>\n",
       "      <td>0.0</td>\n",
       "    </tr>\n",
       "    <tr>\n",
       "      <th>3</th>\n",
       "      <td>NaN</td>\n",
       "      <td>0.179487</td>\n",
       "      <td>0.184211</td>\n",
       "      <td>0.043478</td>\n",
       "      <td>0.0</td>\n",
       "    </tr>\n",
       "    <tr>\n",
       "      <th>4</th>\n",
       "      <td>NaN</td>\n",
       "      <td>0.179487</td>\n",
       "      <td>0.184211</td>\n",
       "      <td>0.043478</td>\n",
       "      <td>0.0</td>\n",
       "    </tr>\n",
       "    <tr>\n",
       "      <th>...</th>\n",
       "      <td>...</td>\n",
       "      <td>...</td>\n",
       "      <td>...</td>\n",
       "      <td>...</td>\n",
       "      <td>...</td>\n",
       "    </tr>\n",
       "    <tr>\n",
       "      <th>13429</th>\n",
       "      <td>2007.0</td>\n",
       "      <td>0.410256</td>\n",
       "      <td>0.421053</td>\n",
       "      <td>0.347826</td>\n",
       "      <td>0.0</td>\n",
       "    </tr>\n",
       "    <tr>\n",
       "      <th>13430</th>\n",
       "      <td>NaN</td>\n",
       "      <td>0.461538</td>\n",
       "      <td>0.473684</td>\n",
       "      <td>0.347826</td>\n",
       "      <td>0.0</td>\n",
       "    </tr>\n",
       "    <tr>\n",
       "      <th>13431</th>\n",
       "      <td>2007.0</td>\n",
       "      <td>0.410256</td>\n",
       "      <td>0.421053</td>\n",
       "      <td>0.347826</td>\n",
       "      <td>0.0</td>\n",
       "    </tr>\n",
       "    <tr>\n",
       "      <th>13432</th>\n",
       "      <td>2007.0</td>\n",
       "      <td>0.435897</td>\n",
       "      <td>0.447368</td>\n",
       "      <td>0.347826</td>\n",
       "      <td>0.0</td>\n",
       "    </tr>\n",
       "    <tr>\n",
       "      <th>13433</th>\n",
       "      <td>2007.0</td>\n",
       "      <td>0.410256</td>\n",
       "      <td>0.421053</td>\n",
       "      <td>0.347826</td>\n",
       "      <td>0.0</td>\n",
       "    </tr>\n",
       "  </tbody>\n",
       "</table>\n",
       "<p>1239645 rows × 5 columns</p>\n",
       "</div>"
      ],
      "text/plain": [
       "        accessionYear     TOTAL   SEARCHABILITY   BROWSEABILITY   CONNECTIVITY\n",
       "0                 NaN  0.179487        0.184211        0.043478            0.0\n",
       "1                 NaN  0.179487        0.184211        0.043478            0.0\n",
       "2                 NaN  0.179487        0.184211        0.043478            0.0\n",
       "3                 NaN  0.179487        0.184211        0.043478            0.0\n",
       "4                 NaN  0.179487        0.184211        0.043478            0.0\n",
       "...               ...       ...             ...             ...            ...\n",
       "13429          2007.0  0.410256        0.421053        0.347826            0.0\n",
       "13430             NaN  0.461538        0.473684        0.347826            0.0\n",
       "13431          2007.0  0.410256        0.421053        0.347826            0.0\n",
       "13432          2007.0  0.435897        0.447368        0.347826            0.0\n",
       "13433          2007.0  0.410256        0.421053        0.347826            0.0\n",
       "\n",
       "[1239645 rows x 5 columns]"
      ]
     },
     "execution_count": 6,
     "metadata": {},
     "output_type": "execute_result"
    }
   ],
   "source": [
    "tidied_df"
   ]
  },
  {
   "cell_type": "code",
   "execution_count": null,
   "metadata": {},
   "outputs": [],
   "source": []
  }
 ],
 "metadata": {
  "kernelspec": {
   "display_name": "Python 3",
   "language": "python",
   "name": "python3"
  },
  "language_info": {
   "codemirror_mode": {
    "name": "ipython",
    "version": 3
   },
   "file_extension": ".py",
   "mimetype": "text/x-python",
   "name": "python",
   "nbconvert_exporter": "python",
   "pygments_lexer": "ipython3",
   "version": "3.8.10"
  }
 },
 "nbformat": 4,
 "nbformat_minor": 4
}

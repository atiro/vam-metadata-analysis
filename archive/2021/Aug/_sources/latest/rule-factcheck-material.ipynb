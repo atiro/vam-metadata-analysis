{
 "cells": [
  {
   "cell_type": "markdown",
   "metadata": {},
   "source": [
    "# Factcheck (Materials)"
   ]
  },
  {
   "cell_type": "markdown",
   "metadata": {},
   "source": [
    "This compares the listed production dates with the object materials, and identifies any cases where a material is stated that did not exist at the time of the object's known production."
   ]
  },
  {
   "cell_type": "code",
   "execution_count": 1,
   "metadata": {
    "tags": [
     "remove-cell"
    ]
   },
   "outputs": [],
   "source": [
    "import glob\n",
    "import pandas as pd\n",
    "\n",
    "objects_df = pd.read_hdf('/home/richard/Git/bbk-mqaf/data/latest/factcheck.h5')"
   ]
  },
  {
   "cell_type": "code",
   "execution_count": 6,
   "metadata": {
    "tags": [
     "remove-cell"
    ]
   },
   "outputs": [],
   "source": [
    "# Remove objects with positive score\n",
    "\n",
    "falseobjects_df = objects_df[objects_df[\" ruleCatalog:score]\"] < 0]"
   ]
  },
  {
   "cell_type": "code",
   "execution_count": null,
   "metadata": {},
   "outputs": [],
   "source": [
    "print(f\"Total Objects {len(objects_df)} of which {len(falseobjects_df)}) contain possible dating or material errors\")"
   ]
  },
  {
   "cell_type": "code",
   "execution_count": 10,
   "metadata": {},
   "outputs": [
    {
     "data": {
      "text/plain": [
       "4927     O697362\n",
       "7306    O1314742\n",
       "1416    O1035294\n",
       "7171    O1248745\n",
       "5166     O138803\n",
       "7667     O320618\n",
       "2366     O372219\n",
       "4768     O106721\n",
       "4770     O106719\n",
       "4777     O106711\n",
       "8534     O142454\n",
       "3256    O1413507\n",
       "9269      O10416\n",
       "8050      O76632\n",
       "Name: [systemNumber, dtype: object"
      ]
     },
     "execution_count": 10,
     "metadata": {},
     "output_type": "execute_result"
    }
   ],
   "source": [
    "falseobjects_df['[systemNumber']"
   ]
  },
  {
   "cell_type": "code",
   "execution_count": null,
   "metadata": {},
   "outputs": [],
   "source": []
  }
 ],
 "metadata": {
  "kernelspec": {
   "display_name": "Python 3",
   "language": "python",
   "name": "python3"
  },
  "language_info": {
   "codemirror_mode": {
    "name": "ipython",
    "version": 3
   },
   "file_extension": ".py",
   "mimetype": "text/x-python",
   "name": "python",
   "nbconvert_exporter": "python",
   "pygments_lexer": "ipython3",
   "version": "3.8.10"
  }
 },
 "nbformat": 4,
 "nbformat_minor": 4
}

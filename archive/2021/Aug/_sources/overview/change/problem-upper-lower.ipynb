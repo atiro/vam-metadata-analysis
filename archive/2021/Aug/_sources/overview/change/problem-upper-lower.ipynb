{
 "cells": [
  {
   "cell_type": "markdown",
   "metadata": {},
   "source": [
    "# Change - Upper/Lower Object Type"
   ]
  },
  {
   "cell_type": "code",
   "execution_count": 2,
   "metadata": {
    "tags": [
     "remove-cell"
    ]
   },
   "outputs": [],
   "source": [
    "\n",
    "import glob\n",
    "import pandas as pd\n",
    "\n",
    "cur_objects_df = pd.read_hdf('/home/richard/Git/bbk-mqaf/data/latest/field.h5')"
   ]
  },
  {
   "cell_type": "code",
   "execution_count": 3,
   "metadata": {
    "tags": [
     "remove-cell"
    ]
   },
   "outputs": [],
   "source": [
    "prev_objects_df = pd.read_hdf('/home/richard/Git/bbk-mqaf/data/prev/field.h5')"
   ]
  },
  {
   "cell_type": "code",
   "execution_count": 4,
   "metadata": {
    "tags": [
     "remove-cell"
    ]
   },
   "outputs": [],
   "source": [
    "cur_total_objects = len(cur_objects_df)"
   ]
  },
  {
   "cell_type": "code",
   "execution_count": 5,
   "metadata": {
    "tags": [
     "remove-cell"
    ]
   },
   "outputs": [],
   "source": [
    "prev_total_objects = len(prev_objects_df)"
   ]
  },
  {
   "cell_type": "code",
   "execution_count": 6,
   "metadata": {
    "tags": [
     "remove-cell"
    ]
   },
   "outputs": [],
   "source": [
    "cur_obj_types = cur_objects_df['[objectType'].value_counts()"
   ]
  },
  {
   "cell_type": "code",
   "execution_count": 7,
   "metadata": {
    "tags": [
     "remove-cell"
    ]
   },
   "outputs": [],
   "source": [
    "prev_obj_types = prev_objects_df['[objectType'].value_counts()"
   ]
  },
  {
   "cell_type": "code",
   "execution_count": 9,
   "metadata": {
    "tags": [
     "remove-cell"
    ]
   },
   "outputs": [],
   "source": [
    "cur_lower_types = cur_obj_types[cur_obj_types.index.str.islower()]"
   ]
  },
  {
   "cell_type": "code",
   "execution_count": 10,
   "metadata": {
    "tags": [
     "remove-cell"
    ]
   },
   "outputs": [],
   "source": [
    "prev_lower_types = prev_obj_types[prev_obj_types.index.str.islower()]"
   ]
  },
  {
   "cell_type": "markdown",
   "metadata": {},
   "source": [
    "## Upper/Lower Case Object Types"
   ]
  },
  {
   "cell_type": "code",
   "execution_count": 11,
   "metadata": {
    "tags": [
     "remove-cell"
    ]
   },
   "outputs": [],
   "source": [
    "# Now go through each with lowercase, and check if it also exists in original list (upper case first letter for the comparision) \n",
    "\n",
    "cur_total_lower = 0\n",
    "cur_total_noupper = 0\n",
    "\n",
    "for index, value in cur_lower_types.items():\n",
    "    upper = index.capitalize()\n",
    "    if upper in cur_obj_types:\n",
    "        count = cur_obj_types.get(upper)\n",
    "        cur_total_lower += value\n",
    "    else:\n",
    "        # Even stranger - no uppercase version exists - probably a typo\n",
    "        cur_total_noupper += value"
   ]
  },
  {
   "cell_type": "code",
   "execution_count": 12,
   "metadata": {},
   "outputs": [],
   "source": [
    "# Now go through each with lowercase, and check if it also exists in original list (upper case first letter for the comparision) \n",
    "\n",
    "# Index - Singular Name, Count, Plural name, count\n",
    "prev_total_lower = 0\n",
    "prev_total_noupper = 0\n",
    "\n",
    "for index, value in cur_lower_types.items():\n",
    "    upper = index.capitalize()\n",
    "    if upper in prev_obj_types:\n",
    "        count = prev_obj_types.get(upper)\n",
    "        prev_total_lower += value\n",
    "    else:\n",
    "        # Even stranger - no uppercase version exists - probably a typo\n",
    "        prev_total_noupper += value"
   ]
  },
  {
   "cell_type": "code",
   "execution_count": 21,
   "metadata": {},
   "outputs": [
    {
     "name": "stdout",
     "output_type": "stream",
     "text": [
      "61480\n"
     ]
    }
   ],
   "source": [
    "print(prev_total_lower)"
   ]
  },
  {
   "cell_type": "code",
   "execution_count": 13,
   "metadata": {},
   "outputs": [],
   "source": [
    "cur_lower_percent = cur_total_lower/cur_total_objects\n",
    "prev_lower_percent = prev_total_lower/prev_total_objects"
   ]
  },
  {
   "cell_type": "code",
   "execution_count": null,
   "metadata": {},
   "outputs": [],
   "source": [
    "print()"
   ]
  },
  {
   "cell_type": "code",
   "execution_count": 24,
   "metadata": {},
   "outputs": [
    {
     "name": "stdout",
     "output_type": "stream",
     "text": [
      "No monthly change for upper/lower case object type\n"
     ]
    },
    {
     "data": {
      "text/plain": [
       "0"
      ]
     },
     "metadata": {
      "scrapbook": {
       "mime_prefix": "",
       "name": "lower_change"
      }
     },
     "output_type": "display_data"
    }
   ],
   "source": [
    "lower_change = 0\n",
    "\n",
    "# Problem, the percentage can change because of number of objects has changed. Use numbers instead\n",
    "\n",
    "if((cur_total_lower-prev_total_lower) > 0):\n",
    "  lower_change = (prev_total_lower-cur_total_lower) / prev_total_lower\n",
    "  print(f\"Monthly Change is {cur_total_lower-prev_total_lower} ({(lower_change)*100:.4f}%) fewer upper/lower which improves browsing functionality\")\n",
    "elif ((cur_total_lower-prev_total_lower) < 0):\n",
    "  lower_change = (prev_total_lower-cur_total_lower) / prev_total_lower\n",
    "  print(f\"Monthly Change is {cur_total_lower-prev_total_lower} ({(lower_change)*100:.4f}%) more upper/lower which reduces browsing functionality\")\n",
    "else:\n",
    "  print(\"No monthly change for upper/lower case object type\")\n",
    "    \n",
    "from myst_nb import glue\n",
    "glue(\"lower_change\", lower_change)"
   ]
  },
  {
   "cell_type": "code",
   "execution_count": 27,
   "metadata": {},
   "outputs": [
    {
     "name": "stdout",
     "output_type": "stream",
     "text": [
      "Total Objects 1238467 of which 61480 (4.9642%) are possible upper/lower duplicates\n"
     ]
    }
   ],
   "source": [
    "print(f\"Total Objects {cur_total_objects} of which {cur_total_lower} ({(cur_total_lower/cur_total_objects)*100:.4f}%) are possible upper/lower duplicates\")"
   ]
  },
  {
   "cell_type": "markdown",
   "metadata": {},
   "source": [
    "## No Upper Equivalent"
   ]
  },
  {
   "cell_type": "code",
   "execution_count": null,
   "metadata": {},
   "outputs": [],
   "source": [
    "cur_noupper_percent = cur_total_noupper/cur_total_objects\n",
    "prev_noupper_percent = prev_total_noupper/prev_total_objects"
   ]
  },
  {
   "cell_type": "code",
   "execution_count": null,
   "metadata": {},
   "outputs": [],
   "source": [
    "if((cur_total_noupper-prev_total_noupper) > 0):\n",
    "  noupper_change = (prev_total_noupper-cur_total_noupper) / prev_total_noupper\n",
    "  print(f\"Monthly Change is {cur_total_noupper-prev_total_noupper} ({(noupper_change)*100:.4f}%) fewer lower only\")\n",
    "elif((cur_total_noupper-prev_total_noupper) < 0):\n",
    "  noupper_change = (prev_total_noupper-cur_total_noupper) / prev_total_noupper\n",
    "  print(f\"Monthly Change is {cur_total_noupper-prev_total_noupper} ({(noupper_change)*100:.4f}%) more lower only\")\n",
    "else:\n",
    "  print(\"No monthly change for upper/lower case object type\")  \n",
    "    \n",
    "    \n",
    "from myst_nb import glue\n",
    "glue(\"noupper_change\", noupper_change)"
   ]
  },
  {
   "cell_type": "code",
   "execution_count": 8,
   "metadata": {},
   "outputs": [
    {
     "name": "stdout",
     "output_type": "stream",
     "text": [
      "Total Objects 1238467 of which 1557 (0.1257%) are lower case only\n"
     ]
    }
   ],
   "source": [
    "print(f\"Total Objects {total_objects} of which {total_noupper} ({(total_noupper/total_objects)*100:.4f}%) are lower case only\")"
   ]
  },
  {
   "cell_type": "code",
   "execution_count": null,
   "metadata": {},
   "outputs": [],
   "source": []
  }
 ],
 "metadata": {
  "kernelspec": {
   "display_name": "Python 3",
   "language": "python",
   "name": "python3"
  },
  "language_info": {
   "codemirror_mode": {
    "name": "ipython",
    "version": 3
   },
   "file_extension": ".py",
   "mimetype": "text/x-python",
   "name": "python",
   "nbconvert_exporter": "python",
   "pygments_lexer": "ipython3",
   "version": "3.8.10"
  }
 },
 "nbformat": 4,
 "nbformat_minor": 4
}

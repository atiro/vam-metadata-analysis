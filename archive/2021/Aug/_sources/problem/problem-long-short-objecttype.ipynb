{
 "cells": [
  {
   "cell_type": "markdown",
   "metadata": {},
   "source": [
    "# Long/Short Unique Object Types"
   ]
  },
  {
   "cell_type": "code",
   "execution_count": 1,
   "metadata": {
    "tags": [
     "remove-cell"
    ]
   },
   "outputs": [],
   "source": [
    "import glob\n",
    "import pandas as pd\n",
    "\n",
    "objects_df = pd.read_hdf('/home/richard/Git/bbk-mqaf/data/latest/field.h5')"
   ]
  },
  {
   "cell_type": "code",
   "execution_count": 2,
   "metadata": {
    "tags": [
     "remove-cell"
    ]
   },
   "outputs": [],
   "source": [
    "obj_types = objects_df['[objectType'].value_counts()"
   ]
  },
  {
   "cell_type": "code",
   "execution_count": 3,
   "metadata": {
    "tags": [
     "remove-cell"
    ]
   },
   "outputs": [],
   "source": [
    "unique_objtypes = obj_types[obj_types == 1]\n",
    "top_unique_names = unique_objtypes.index.sort_values(key=lambda x: x.str.len(), ascending=False)\n",
    "top_unique_names_series = top_unique_names.to_list()"
   ]
  },
  {
   "cell_type": "code",
   "execution_count": 4,
   "metadata": {
    "tags": [
     "remove-cell"
    ]
   },
   "outputs": [],
   "source": [
    "longest_top20 = pd.DataFrame(top_unique_names_series[0:20], columns={'objectType'})"
   ]
  },
  {
   "cell_type": "markdown",
   "metadata": {},
   "source": [
    "## Top 20 Longest Titles for unique object types"
   ]
  },
  {
   "cell_type": "code",
   "execution_count": 8,
   "metadata": {
    "tags": [
     "hide-input",
     "full-width"
    ]
   },
   "outputs": [
    {
     "data": {
      "text/html": [
       "<style  type=\"text/css\" >\n",
       "</style><table id=\"T_b7b8a330_f830_11eb_81e3_01d834dab472\" ><caption>Top 20 longest object types</caption><thead>    <tr>        <th class=\"blank level0\" ></th>        <th class=\"col_heading level0 col0\" >System Number</th>        <th class=\"col_heading level0 col1\" >Object Type</th>    </tr></thead><tbody>\n",
       "                <tr>\n",
       "                        <th id=\"T_b7b8a330_f830_11eb_81e3_01d834dab472level0_row0\" class=\"row_heading level0 row0\" >0</th>\n",
       "                        <td id=\"T_b7b8a330_f830_11eb_81e3_01d834dab472row0_col0\" class=\"data row0 col0\" >O1123034</td>\n",
       "                        <td id=\"T_b7b8a330_f830_11eb_81e3_01d834dab472row0_col1\" class=\"data row0 col1\" >quick's candle-light amusement,MoC,1981,O1123041,0.051282,1.0,0.111111,0.0,0.0,0.0,0.0,0.0,0.0,0.0,0,1,0,1,0,0,0,0,0,0,0,0,0,0,0,0,0,0,0,0,0,0,0,0,0,0,0,0,0,0,0,0,0,0,0,0,0,0,0,0,1,0,1,0,0,0,0,0,0,0,0,0,0,0,0,0,0,0,0,0,0,0,0,0,0,0,0,0,0,0,0,0,0,0,0,0,0,0\n",
       "Number 1 - burton's anatomy of grimace,MoC,1970,O1123040,0.025641,1.0,0.0,0.0,0.0,0.0,0.0,0.0,0.0,0.0,0,1,0,0,0,0,0,0,0,0,0,0,0,0,0,0,0,0,0,0,0,0,0,0,0,0,0,0,0,0,0,0,0,0,0,0,0,0,0,0,1,0,0,0,0,0,0,0,0,0,0,0,0,0,0,0,0,0,0,0,0,0,0,0,0,0,0,0,0,0,0,0,0,0,0,0,0,0\n",
       "Changeable portraits of men,MoC,1954,O1123037,0.051282,1.0,0.111111,0.0,0.0,0.0,0.0,0.0,0.0,0.0,0,1,0,1,0,0,0,0,0,0,0,0,0,0,0,0,0,0,0,0,0,0,0,0,0,0,0,0,0,0,0,0,0,0,0,0,0,0,0,0,1,0,1,0,0,0,0,0,0,0,0,0,0,0,0,0,0,0,0,0,0,0,0,0,0,0,0,0,0,0,0,0,0,0,0,0,0,0\n",
       "Changeable portraits of ladies,MoC,1954,O1123036,0.051282,1.0,0.111111,0.0,0.0,0.0,0.0,0.0,0.0,0.0,0,1,0,1,0,0,0,0,0,0,0,0,0,0,0,0,0,0,0,0,0,0,0,0,0,0,0,0,0,0,0,0,0,0,0,0,0,0,0,0,1,0,1,0,0,0,0,0,0,0,0,0,0,0,0,0,0,0,0,0,0,0,0,0,0,0,0,0,0,0,0,0,0,0,0,0,0,0\n",
       "Changeable gentlemen,MoC,1954,O1123035,0.051282,1.0,0.111111,0.0,0.0,0.0,0.0,0.0,0.0,0.0,0,1,0,1,0,0,0,0,0,0,0,0,0,0,0,0,0,0,0,0,0,0,0,0,0,0,0,0,0,0,0,0,0,0,0,0,0,0,0,0,1,0,1,0,0,0,0,0,0,0,0,0,0,0,0,0,0,0,0,0,0,0,0,0,0,0,0,0,0,0,0,0,0,0,0,0,0,0\n",
       "the joyful young girl in 1000 comic attitudes\"</td>\n",
       "            </tr>\n",
       "            <tr>\n",
       "                        <th id=\"T_b7b8a330_f830_11eb_81e3_01d834dab472level0_row1\" class=\"row_heading level0 row1\" >1</th>\n",
       "                        <td id=\"T_b7b8a330_f830_11eb_81e3_01d834dab472row1_col0\" class=\"data row1 col0\" >O347341</td>\n",
       "                        <td id=\"T_b7b8a330_f830_11eb_81e3_01d834dab472row1_col1\" class=\"data row1 col1\" >Virgin worshipping the Infant Christ with  St John the Baptist. Plaster cast purchased from Oronzio Lelli in 1890 after 19th century relief by Giovanni Bastianini.</td>\n",
       "            </tr>\n",
       "            <tr>\n",
       "                        <th id=\"T_b7b8a330_f830_11eb_81e3_01d834dab472level0_row2\" class=\"row_heading level0 row2\" >2</th>\n",
       "                        <td id=\"T_b7b8a330_f830_11eb_81e3_01d834dab472row2_col0\" class=\"data row2 col0\" >O121129</td>\n",
       "                        <td id=\"T_b7b8a330_f830_11eb_81e3_01d834dab472row2_col1\" class=\"data row2 col1\" >Set of stacking storage boxes, clear grey-green glass. Designed by Wilhelm Wagenfeld for Vereinigte Lausitzer Glaswerke. Germany (Saxony), Weisswasser, about 1938</td>\n",
       "            </tr>\n",
       "            <tr>\n",
       "                        <th id=\"T_b7b8a330_f830_11eb_81e3_01d834dab472level0_row3\" class=\"row_heading level0 row3\" >3</th>\n",
       "                        <td id=\"T_b7b8a330_f830_11eb_81e3_01d834dab472row3_col0\" class=\"data row3 col0\" >O322697</td>\n",
       "                        <td id=\"T_b7b8a330_f830_11eb_81e3_01d834dab472row3_col1\" class=\"data row3 col1\" >Ebony mounted in silver, silver-gilt and copper-gilt. The instruments of silver-gilt, shell, steel and ivory. German, unmarked, possibly 1610-20 or 1800-1900</td>\n",
       "            </tr>\n",
       "            <tr>\n",
       "                        <th id=\"T_b7b8a330_f830_11eb_81e3_01d834dab472level0_row4\" class=\"row_heading level0 row4\" >4</th>\n",
       "                        <td id=\"T_b7b8a330_f830_11eb_81e3_01d834dab472row4_col0\" class=\"data row4 col0\" >O378860</td>\n",
       "                        <td id=\"T_b7b8a330_f830_11eb_81e3_01d834dab472row4_col1\" class=\"data row4 col1\" >altar cross, copper gilt on a wooden core, set with nielloed silver plaques, North Italian, dated 1552, signed Berardino de Nofrico</td>\n",
       "            </tr>\n",
       "            <tr>\n",
       "                        <th id=\"T_b7b8a330_f830_11eb_81e3_01d834dab472level0_row5\" class=\"row_heading level0 row5\" >5</th>\n",
       "                        <td id=\"T_b7b8a330_f830_11eb_81e3_01d834dab472row5_col0\" class=\"data row5 col0\" >O503432</td>\n",
       "                        <td id=\"T_b7b8a330_f830_11eb_81e3_01d834dab472row5_col1\" class=\"data row5 col1\" >Design for a scene on the border of the Wellington shield made in silver, [The Duke of Wellington before the House of Commons]</td>\n",
       "            </tr>\n",
       "            <tr>\n",
       "                        <th id=\"T_b7b8a330_f830_11eb_81e3_01d834dab472level0_row6\" class=\"row_heading level0 row6\" >6</th>\n",
       "                        <td id=\"T_b7b8a330_f830_11eb_81e3_01d834dab472row6_col0\" class=\"data row6 col0\" >O503438</td>\n",
       "                        <td id=\"T_b7b8a330_f830_11eb_81e3_01d834dab472row6_col1\" class=\"data row6 col1\" >Design for a scene on the border of the Wellington shield made in silver, The Passage of the Duoro Oporto Liberated 1800</td>\n",
       "            </tr>\n",
       "            <tr>\n",
       "                        <th id=\"T_b7b8a330_f830_11eb_81e3_01d834dab472level0_row7\" class=\"row_heading level0 row7\" >7</th>\n",
       "                        <td id=\"T_b7b8a330_f830_11eb_81e3_01d834dab472row7_col0\" class=\"data row7 col0\" >O503433</td>\n",
       "                        <td id=\"T_b7b8a330_f830_11eb_81e3_01d834dab472row7_col1\" class=\"data row7 col1\" >Design for a scene on the border of the Wellington shield made in silver, The Battle of the Pyrenees, Bordeaux delivered</td>\n",
       "            </tr>\n",
       "            <tr>\n",
       "                        <th id=\"T_b7b8a330_f830_11eb_81e3_01d834dab472level0_row8\" class=\"row_heading level0 row8\" >8</th>\n",
       "                        <td id=\"T_b7b8a330_f830_11eb_81e3_01d834dab472row8_col0\" class=\"data row8 col0\" >O380184</td>\n",
       "                        <td id=\"T_b7b8a330_f830_11eb_81e3_01d834dab472row8_col1\" class=\"data row8 col1\" >Door handle with escutcheon, wrought iron, made in Nuremberg, 16th century with 19th century knocker and striking plate</td>\n",
       "            </tr>\n",
       "            <tr>\n",
       "                        <th id=\"T_b7b8a330_f830_11eb_81e3_01d834dab472level0_row9\" class=\"row_heading level0 row9\" >9</th>\n",
       "                        <td id=\"T_b7b8a330_f830_11eb_81e3_01d834dab472row9_col0\" class=\"data row9 col0\" >O324363</td>\n",
       "                        <td id=\"T_b7b8a330_f830_11eb_81e3_01d834dab472row9_col1\" class=\"data row9 col1\" >Chatelaine, pencil holder, spectacle-case, pincushion, penknife, scissors with case and scent bottle with stopper</td>\n",
       "            </tr>\n",
       "            <tr>\n",
       "                        <th id=\"T_b7b8a330_f830_11eb_81e3_01d834dab472level0_row10\" class=\"row_heading level0 row10\" >10</th>\n",
       "                        <td id=\"T_b7b8a330_f830_11eb_81e3_01d834dab472row10_col0\" class=\"data row10 col0\" >O503437</td>\n",
       "                        <td id=\"T_b7b8a330_f830_11eb_81e3_01d834dab472row10_col1\" class=\"data row10 col1\" >Design for a scene on the border of the Wellington shield made in silver, The Lines of Torres Vedras March 6 1811</td>\n",
       "            </tr>\n",
       "            <tr>\n",
       "                        <th id=\"T_b7b8a330_f830_11eb_81e3_01d834dab472level0_row11\" class=\"row_heading level0 row11\" >11</th>\n",
       "                        <td id=\"T_b7b8a330_f830_11eb_81e3_01d834dab472row11_col0\" class=\"data row11 col0\" >O503440</td>\n",
       "                        <td id=\"T_b7b8a330_f830_11eb_81e3_01d834dab472row11_col1\" class=\"data row11 col1\" >Design for a scene on the border of the Wellington shield made in silver, The Victory of Assaye September 23 1803</td>\n",
       "            </tr>\n",
       "            <tr>\n",
       "                        <th id=\"T_b7b8a330_f830_11eb_81e3_01d834dab472level0_row12\" class=\"row_heading level0 row12\" >12</th>\n",
       "                        <td id=\"T_b7b8a330_f830_11eb_81e3_01d834dab472row12_col0\" class=\"data row12 col0\" >O503436</td>\n",
       "                        <td id=\"T_b7b8a330_f830_11eb_81e3_01d834dab472row12_col1\" class=\"data row12 col1\" >Design for a scene on the border of the Wellington shield made in silver, Badajoz assaulted: taken April 6 1812</td>\n",
       "            </tr>\n",
       "            <tr>\n",
       "                        <th id=\"T_b7b8a330_f830_11eb_81e3_01d834dab472level0_row13\" class=\"row_heading level0 row13\" >13</th>\n",
       "                        <td id=\"T_b7b8a330_f830_11eb_81e3_01d834dab472row13_col0\" class=\"data row13 col0\" >O503439</td>\n",
       "                        <td id=\"T_b7b8a330_f830_11eb_81e3_01d834dab472row13_col1\" class=\"data row13 col1\" >Design for a scene on the border of the Wellington shield made in silver, The Battle of Vimeira August 21 1809</td>\n",
       "            </tr>\n",
       "            <tr>\n",
       "                        <th id=\"T_b7b8a330_f830_11eb_81e3_01d834dab472level0_row14\" class=\"row_heading level0 row14\" >14</th>\n",
       "                        <td id=\"T_b7b8a330_f830_11eb_81e3_01d834dab472row14_col0\" class=\"data row14 col0\" >O503431</td>\n",
       "                        <td id=\"T_b7b8a330_f830_11eb_81e3_01d834dab472row14_col1\" class=\"data row14 col1\" >Design for a scene on the border of the Wellington shield made in silver, The Dukedom of Wellington conferred</td>\n",
       "            </tr>\n",
       "            <tr>\n",
       "                        <th id=\"T_b7b8a330_f830_11eb_81e3_01d834dab472level0_row15\" class=\"row_heading level0 row15\" >15</th>\n",
       "                        <td id=\"T_b7b8a330_f830_11eb_81e3_01d834dab472row15_col0\" class=\"data row15 col0\" >O503434</td>\n",
       "                        <td id=\"T_b7b8a330_f830_11eb_81e3_01d834dab472row15_col1\" class=\"data row15 col1\" >Design for a scene on the border of the Wellington shield made in silver, The Battle of Vitoria June 9 1813</td>\n",
       "            </tr>\n",
       "            <tr>\n",
       "                        <th id=\"T_b7b8a330_f830_11eb_81e3_01d834dab472level0_row16\" class=\"row_heading level0 row16\" >16</th>\n",
       "                        <td id=\"T_b7b8a330_f830_11eb_81e3_01d834dab472row16_col0\" class=\"data row16 col0\" >O1360270</td>\n",
       "                        <td id=\"T_b7b8a330_f830_11eb_81e3_01d834dab472row16_col1\" class=\"data row16 col1\" >The act [sic] of King Henry IV ; Henry VIII ; Richard II ; King Lear. W.C. Macready's acting copies</td>\n",
       "            </tr>\n",
       "            <tr>\n",
       "                        <th id=\"T_b7b8a330_f830_11eb_81e3_01d834dab472level0_row17\" class=\"row_heading level0 row17\" >17</th>\n",
       "                        <td id=\"T_b7b8a330_f830_11eb_81e3_01d834dab472row17_col0\" class=\"data row17 col0\" >O324364</td>\n",
       "                        <td id=\"T_b7b8a330_f830_11eb_81e3_01d834dab472row17_col1\" class=\"data row17 col1\" >Chatelaine with pencil holder, memo pad, pincushion, scissors holder, needle case and tape measure</td>\n",
       "            </tr>\n",
       "            <tr>\n",
       "                        <th id=\"T_b7b8a330_f830_11eb_81e3_01d834dab472level0_row18\" class=\"row_heading level0 row18\" >18</th>\n",
       "                        <td id=\"T_b7b8a330_f830_11eb_81e3_01d834dab472row18_col0\" class=\"data row18 col0\" >O1351626</td>\n",
       "                        <td id=\"T_b7b8a330_f830_11eb_81e3_01d834dab472row18_col1\" class=\"data row18 col1\" >The Encyclopaedia Britannica : a dictionary of arts, sciences, literature and general information</td>\n",
       "            </tr>\n",
       "            <tr>\n",
       "                        <th id=\"T_b7b8a330_f830_11eb_81e3_01d834dab472level0_row19\" class=\"row_heading level0 row19\" >19</th>\n",
       "                        <td id=\"T_b7b8a330_f830_11eb_81e3_01d834dab472row19_col0\" class=\"data row19 col0\" >O683928</td>\n",
       "                        <td id=\"T_b7b8a330_f830_11eb_81e3_01d834dab472row19_col1\" class=\"data row19 col1\" >A design for the detachable arms of a silver candelabrum by an anonymous draughtsman, c. 1780</td>\n",
       "            </tr>\n",
       "    </tbody></table>"
      ],
      "text/plain": [
       "<pandas.io.formats.style.Styler at 0x7f8b5e718070>"
      ]
     },
     "execution_count": 8,
     "metadata": {},
     "output_type": "execute_result"
    }
   ],
   "source": [
    "longest_df = pd.DataFrame(columns=['System Number','Object Type'])\n",
    "\n",
    "# Find them in the data to insert system number\n",
    "for row in longest_top20.itertuples():\n",
    "    obj_type = row.objectType\n",
    "    orig_obj = objects_df.loc[objects_df['[objectType'] == obj_type]\n",
    "    obj_sysnum = orig_obj[\" systemNumber\"].array[0]\n",
    "    longest_df = longest_df.append({\"System Number\": obj_sysnum, \"Object Type\": obj_type}, ignore_index=True)\n",
    "    \n",
    "longest_df.style.set_caption('Top 20 longest object types')"
   ]
  },
  {
   "cell_type": "markdown",
   "metadata": {},
   "source": [
    "# Top 20 shortest titles for unique object types"
   ]
  },
  {
   "cell_type": "code",
   "execution_count": 7,
   "metadata": {
    "tags": [
     "hide-input",
     "full-width"
    ]
   },
   "outputs": [
    {
     "data": {
      "text/html": [
       "<style  type=\"text/css\" >\n",
       "</style><table id=\"T_aead0808_f830_11eb_81e3_01d834dab472\" ><caption>Top 20 shortest object types</caption><thead>    <tr>        <th class=\"blank level0\" ></th>        <th class=\"col_heading level0 col0\" >System Number</th>        <th class=\"col_heading level0 col1\" >Object Type</th>    </tr></thead><tbody>\n",
       "                <tr>\n",
       "                        <th id=\"T_aead0808_f830_11eb_81e3_01d834dab472level0_row0\" class=\"row_heading level0 row0\" >0</th>\n",
       "                        <td id=\"T_aead0808_f830_11eb_81e3_01d834dab472row0_col0\" class=\"data row0 col0\" >O1268317</td>\n",
       "                        <td id=\"T_aead0808_f830_11eb_81e3_01d834dab472row0_col1\" class=\"data row0 col1\" >LPs</td>\n",
       "            </tr>\n",
       "            <tr>\n",
       "                        <th id=\"T_aead0808_f830_11eb_81e3_01d834dab472level0_row1\" class=\"row_heading level0 row1\" >1</th>\n",
       "                        <td id=\"T_aead0808_f830_11eb_81e3_01d834dab472row1_col0\" class=\"data row1 col0\" >O475008</td>\n",
       "                        <td id=\"T_aead0808_f830_11eb_81e3_01d834dab472row1_col1\" class=\"data row1 col1\" >bow</td>\n",
       "            </tr>\n",
       "            <tr>\n",
       "                        <th id=\"T_aead0808_f830_11eb_81e3_01d834dab472level0_row2\" class=\"row_heading level0 row2\" >2</th>\n",
       "                        <td id=\"T_aead0808_f830_11eb_81e3_01d834dab472row2_col0\" class=\"data row2 col0\" >O473945</td>\n",
       "                        <td id=\"T_aead0808_f830_11eb_81e3_01d834dab472row2_col1\" class=\"data row2 col1\" >pan</td>\n",
       "            </tr>\n",
       "            <tr>\n",
       "                        <th id=\"T_aead0808_f830_11eb_81e3_01d834dab472level0_row3\" class=\"row_heading level0 row3\" >3</th>\n",
       "                        <td id=\"T_aead0808_f830_11eb_81e3_01d834dab472row3_col0\" class=\"data row3 col0\" >O455452</td>\n",
       "                        <td id=\"T_aead0808_f830_11eb_81e3_01d834dab472row3_col1\" class=\"data row3 col1\" >Maa</td>\n",
       "            </tr>\n",
       "            <tr>\n",
       "                        <th id=\"T_aead0808_f830_11eb_81e3_01d834dab472level0_row4\" class=\"row_heading level0 row4\" >4</th>\n",
       "                        <td id=\"T_aead0808_f830_11eb_81e3_01d834dab472row4_col0\" class=\"data row4 col0\" >O1126984</td>\n",
       "                        <td id=\"T_aead0808_f830_11eb_81e3_01d834dab472row4_col1\" class=\"data row4 col1\" >Ski</td>\n",
       "            </tr>\n",
       "            <tr>\n",
       "                        <th id=\"T_aead0808_f830_11eb_81e3_01d834dab472level0_row5\" class=\"row_heading level0 row5\" >5</th>\n",
       "                        <td id=\"T_aead0808_f830_11eb_81e3_01d834dab472row5_col0\" class=\"data row5 col0\" >O1290244</td>\n",
       "                        <td id=\"T_aead0808_f830_11eb_81e3_01d834dab472row5_col1\" class=\"data row5 col1\" >wig</td>\n",
       "            </tr>\n",
       "            <tr>\n",
       "                        <th id=\"T_aead0808_f830_11eb_81e3_01d834dab472level0_row6\" class=\"row_heading level0 row6\" >6</th>\n",
       "                        <td id=\"T_aead0808_f830_11eb_81e3_01d834dab472row6_col0\" class=\"data row6 col0\" >O325388</td>\n",
       "                        <td id=\"T_aead0808_f830_11eb_81e3_01d834dab472row6_col1\" class=\"data row6 col1\" >Gag</td>\n",
       "            </tr>\n",
       "            <tr>\n",
       "                        <th id=\"T_aead0808_f830_11eb_81e3_01d834dab472level0_row7\" class=\"row_heading level0 row7\" >7</th>\n",
       "                        <td id=\"T_aead0808_f830_11eb_81e3_01d834dab472row7_col0\" class=\"data row7 col0\" >O21602</td>\n",
       "                        <td id=\"T_aead0808_f830_11eb_81e3_01d834dab472row7_col1\" class=\"data row7 col1\" >Tub</td>\n",
       "            </tr>\n",
       "            <tr>\n",
       "                        <th id=\"T_aead0808_f830_11eb_81e3_01d834dab472level0_row8\" class=\"row_heading level0 row8\" >8</th>\n",
       "                        <td id=\"T_aead0808_f830_11eb_81e3_01d834dab472row8_col0\" class=\"data row8 col0\" >O1517192</td>\n",
       "                        <td id=\"T_aead0808_f830_11eb_81e3_01d834dab472row8_col1\" class=\"data row8 col1\" >fez</td>\n",
       "            </tr>\n",
       "            <tr>\n",
       "                        <th id=\"T_aead0808_f830_11eb_81e3_01d834dab472level0_row9\" class=\"row_heading level0 row9\" >9</th>\n",
       "                        <td id=\"T_aead0808_f830_11eb_81e3_01d834dab472row9_col0\" class=\"data row9 col0\" >O1514172</td>\n",
       "                        <td id=\"T_aead0808_f830_11eb_81e3_01d834dab472row9_col1\" class=\"data row9 col1\" >jar</td>\n",
       "            </tr>\n",
       "            <tr>\n",
       "                        <th id=\"T_aead0808_f830_11eb_81e3_01d834dab472level0_row10\" class=\"row_heading level0 row10\" >10</th>\n",
       "                        <td id=\"T_aead0808_f830_11eb_81e3_01d834dab472row10_col0\" class=\"data row10 col0\" >O114375</td>\n",
       "                        <td id=\"T_aead0808_f830_11eb_81e3_01d834dab472row10_col1\" class=\"data row10 col1\" >Bur</td>\n",
       "            </tr>\n",
       "            <tr>\n",
       "                        <th id=\"T_aead0808_f830_11eb_81e3_01d834dab472level0_row11\" class=\"row_heading level0 row11\" >11</th>\n",
       "                        <td id=\"T_aead0808_f830_11eb_81e3_01d834dab472row11_col0\" class=\"data row11 col0\" >O1128302</td>\n",
       "                        <td id=\"T_aead0808_f830_11eb_81e3_01d834dab472row11_col1\" class=\"data row11 col1\" >Bus</td>\n",
       "            </tr>\n",
       "            <tr>\n",
       "                        <th id=\"T_aead0808_f830_11eb_81e3_01d834dab472level0_row12\" class=\"row_heading level0 row12\" >12</th>\n",
       "                        <td id=\"T_aead0808_f830_11eb_81e3_01d834dab472row12_col0\" class=\"data row12 col0\" >O449172</td>\n",
       "                        <td id=\"T_aead0808_f830_11eb_81e3_01d834dab472row12_col1\" class=\"data row12 col1\" >hoe</td>\n",
       "            </tr>\n",
       "            <tr>\n",
       "                        <th id=\"T_aead0808_f830_11eb_81e3_01d834dab472level0_row13\" class=\"row_heading level0 row13\" >13</th>\n",
       "                        <td id=\"T_aead0808_f830_11eb_81e3_01d834dab472row13_col0\" class=\"data row13 col0\" >O1194272</td>\n",
       "                        <td id=\"T_aead0808_f830_11eb_81e3_01d834dab472row13_col1\" class=\"data row13 col1\" >oil</td>\n",
       "            </tr>\n",
       "            <tr>\n",
       "                        <th id=\"T_aead0808_f830_11eb_81e3_01d834dab472level0_row14\" class=\"row_heading level0 row14\" >14</th>\n",
       "                        <td id=\"T_aead0808_f830_11eb_81e3_01d834dab472row14_col0\" class=\"data row14 col0\" >O1265593</td>\n",
       "                        <td id=\"T_aead0808_f830_11eb_81e3_01d834dab472row14_col1\" class=\"data row14 col1\" >tin</td>\n",
       "            </tr>\n",
       "            <tr>\n",
       "                        <th id=\"T_aead0808_f830_11eb_81e3_01d834dab472level0_row15\" class=\"row_heading level0 row15\" >15</th>\n",
       "                        <td id=\"T_aead0808_f830_11eb_81e3_01d834dab472row15_col0\" class=\"data row15 col0\" >O1240189</td>\n",
       "                        <td id=\"T_aead0808_f830_11eb_81e3_01d834dab472row15_col1\" class=\"data row15 col1\" >DVD</td>\n",
       "            </tr>\n",
       "            <tr>\n",
       "                        <th id=\"T_aead0808_f830_11eb_81e3_01d834dab472level0_row16\" class=\"row_heading level0 row16\" >16</th>\n",
       "                        <td id=\"T_aead0808_f830_11eb_81e3_01d834dab472row16_col0\" class=\"data row16 col0\" >O497847</td>\n",
       "                        <td id=\"T_aead0808_f830_11eb_81e3_01d834dab472row16_col1\" class=\"data row16 col1\" >KEY</td>\n",
       "            </tr>\n",
       "            <tr>\n",
       "                        <th id=\"T_aead0808_f830_11eb_81e3_01d834dab472level0_row17\" class=\"row_heading level0 row17\" >17</th>\n",
       "                        <td id=\"T_aead0808_f830_11eb_81e3_01d834dab472row17_col0\" class=\"data row17 col0\" >O101625</td>\n",
       "                        <td id=\"T_aead0808_f830_11eb_81e3_01d834dab472row17_col1\" class=\"data row17 col1\" >Cd</td>\n",
       "            </tr>\n",
       "            <tr>\n",
       "                        <th id=\"T_aead0808_f830_11eb_81e3_01d834dab472level0_row18\" class=\"row_heading level0 row18\" >18</th>\n",
       "                        <td id=\"T_aead0808_f830_11eb_81e3_01d834dab472row18_col0\" class=\"data row18 col0\" >O1160639</td>\n",
       "                        <td id=\"T_aead0808_f830_11eb_81e3_01d834dab472row18_col1\" class=\"data row18 col1\" > </td>\n",
       "            </tr>\n",
       "            <tr>\n",
       "                        <th id=\"T_aead0808_f830_11eb_81e3_01d834dab472level0_row19\" class=\"row_heading level0 row19\" >19</th>\n",
       "                        <td id=\"T_aead0808_f830_11eb_81e3_01d834dab472row19_col0\" class=\"data row19 col0\" >O1026236</td>\n",
       "                        <td id=\"T_aead0808_f830_11eb_81e3_01d834dab472row19_col1\" class=\"data row19 col1\" >X</td>\n",
       "            </tr>\n",
       "    </tbody></table>"
      ],
      "text/plain": [
       "<pandas.io.formats.style.Styler at 0x7f8b57d91f40>"
      ]
     },
     "execution_count": 7,
     "metadata": {},
     "output_type": "execute_result"
    }
   ],
   "source": [
    "shortest_top20 = pd.DataFrame(top_unique_names_series[-20:], columns={'objectType'})\n",
    "shortest_df = pd.DataFrame(columns=['System Number','Object Type'])\n",
    "\n",
    "# Find them in the data to insert system number\n",
    "for row in shortest_top20.itertuples():\n",
    "    obj_type = row.objectType\n",
    "    orig_obj = objects_df.loc[objects_df['[objectType'] == obj_type]\n",
    "    obj_sysnum = orig_obj[\" systemNumber\"].array[0]\n",
    "    shortest_df = shortest_df.append({\"System Number\": obj_sysnum, \"Object Type\": obj_type}, ignore_index=True)\n",
    "    \n",
    "shortest_df.style.set_caption('Top 20 shortest object types')"
   ]
  },
  {
   "cell_type": "code",
   "execution_count": null,
   "metadata": {},
   "outputs": [],
   "source": []
  }
 ],
 "metadata": {
  "kernelspec": {
   "display_name": "Python 3",
   "language": "python",
   "name": "python3"
  },
  "language_info": {
   "codemirror_mode": {
    "name": "ipython",
    "version": 3
   },
   "file_extension": ".py",
   "mimetype": "text/x-python",
   "name": "python",
   "nbconvert_exporter": "python",
   "pygments_lexer": "ipython3",
   "version": "3.8.10"
  }
 },
 "nbformat": 4,
 "nbformat_minor": 4
}
